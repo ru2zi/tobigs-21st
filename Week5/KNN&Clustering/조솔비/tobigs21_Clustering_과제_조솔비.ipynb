{
 "cells": [
  {
   "cell_type": "markdown",
   "metadata": {
    "id": "st8jaawRjDzj"
   },
   "source": [
    "# 21기 Clustering 정규세션 과제"
   ]
  },
  {
   "cell_type": "markdown",
   "metadata": {
    "id": "8aIsbSBAjDzo"
   },
   "source": [
    "**데이터:** [Mall Customer Segmentation Data| Kaggle](https://www.kaggle.com/vjchoudhary7/customer-segmentation-tutorial-in-python)"
   ]
  },
  {
   "cell_type": "markdown",
   "metadata": {
    "id": "8b7Gfxw3jDzo"
   },
   "source": [
    "---"
   ]
  },
  {
   "cell_type": "markdown",
   "metadata": {
    "id": "l7jvLHqAjDzp"
   },
   "source": [
    "## 0. 데이터 불러오기"
   ]
  },
  {
   "cell_type": "code",
   "execution_count": 1,
   "metadata": {},
   "outputs": [
    {
     "data": {
      "text/html": [
       "<div>\n",
       "<style scoped>\n",
       "    .dataframe tbody tr th:only-of-type {\n",
       "        vertical-align: middle;\n",
       "    }\n",
       "\n",
       "    .dataframe tbody tr th {\n",
       "        vertical-align: top;\n",
       "    }\n",
       "\n",
       "    .dataframe thead th {\n",
       "        text-align: right;\n",
       "    }\n",
       "</style>\n",
       "<table border=\"1\" class=\"dataframe\">\n",
       "  <thead>\n",
       "    <tr style=\"text-align: right;\">\n",
       "      <th></th>\n",
       "      <th>Gender</th>\n",
       "      <th>Age</th>\n",
       "      <th>Annual Income (k$)</th>\n",
       "      <th>Spending Score (1-100)</th>\n",
       "    </tr>\n",
       "    <tr>\n",
       "      <th>CustomerID</th>\n",
       "      <th></th>\n",
       "      <th></th>\n",
       "      <th></th>\n",
       "      <th></th>\n",
       "    </tr>\n",
       "  </thead>\n",
       "  <tbody>\n",
       "    <tr>\n",
       "      <th>1</th>\n",
       "      <td>Male</td>\n",
       "      <td>19</td>\n",
       "      <td>15</td>\n",
       "      <td>39</td>\n",
       "    </tr>\n",
       "    <tr>\n",
       "      <th>2</th>\n",
       "      <td>Male</td>\n",
       "      <td>21</td>\n",
       "      <td>15</td>\n",
       "      <td>81</td>\n",
       "    </tr>\n",
       "    <tr>\n",
       "      <th>3</th>\n",
       "      <td>Female</td>\n",
       "      <td>20</td>\n",
       "      <td>16</td>\n",
       "      <td>6</td>\n",
       "    </tr>\n",
       "    <tr>\n",
       "      <th>4</th>\n",
       "      <td>Female</td>\n",
       "      <td>23</td>\n",
       "      <td>16</td>\n",
       "      <td>77</td>\n",
       "    </tr>\n",
       "    <tr>\n",
       "      <th>5</th>\n",
       "      <td>Female</td>\n",
       "      <td>31</td>\n",
       "      <td>17</td>\n",
       "      <td>40</td>\n",
       "    </tr>\n",
       "  </tbody>\n",
       "</table>\n",
       "</div>"
      ],
      "text/plain": [
       "            Gender  Age  Annual Income (k$)  Spending Score (1-100)\n",
       "CustomerID                                                         \n",
       "1             Male   19                  15                      39\n",
       "2             Male   21                  15                      81\n",
       "3           Female   20                  16                       6\n",
       "4           Female   23                  16                      77\n",
       "5           Female   31                  17                      40"
      ]
     },
     "execution_count": 1,
     "metadata": {},
     "output_type": "execute_result"
    }
   ],
   "source": [
    "import pandas as pd\n",
    "import os\n",
    "\n",
    "data_dir = os.getcwd()\n",
    "df = pd.read_csv(os.path.join(data_dir, \"Mall_Customers.csv\"), index_col = 0)\n",
    "df.head()"
   ]
  },
  {
   "cell_type": "markdown",
   "metadata": {
    "id": "BmkmlCFcjDzn"
   },
   "source": [
    "## 1. Preprocssing / EDA"
   ]
  },
  {
   "cell_type": "code",
   "execution_count": 2,
   "metadata": {},
   "outputs": [
    {
     "data": {
      "text/plain": [
       "(200, 4)"
      ]
     },
     "execution_count": 2,
     "metadata": {},
     "output_type": "execute_result"
    }
   ],
   "source": [
    "df.shape"
   ]
  },
  {
   "cell_type": "code",
   "execution_count": 3,
   "metadata": {},
   "outputs": [
    {
     "name": "stdout",
     "output_type": "stream",
     "text": [
      "<class 'pandas.core.frame.DataFrame'>\n",
      "Int64Index: 200 entries, 1 to 200\n",
      "Data columns (total 4 columns):\n",
      " #   Column                  Non-Null Count  Dtype \n",
      "---  ------                  --------------  ----- \n",
      " 0   Gender                  200 non-null    object\n",
      " 1   Age                     200 non-null    int64 \n",
      " 2   Annual Income (k$)      200 non-null    int64 \n",
      " 3   Spending Score (1-100)  200 non-null    int64 \n",
      "dtypes: int64(3), object(1)\n",
      "memory usage: 7.8+ KB\n"
     ]
    }
   ],
   "source": [
    "df.info()"
   ]
  },
  {
   "cell_type": "code",
   "execution_count": 4,
   "metadata": {},
   "outputs": [
    {
     "data": {
      "text/html": [
       "<div>\n",
       "<style scoped>\n",
       "    .dataframe tbody tr th:only-of-type {\n",
       "        vertical-align: middle;\n",
       "    }\n",
       "\n",
       "    .dataframe tbody tr th {\n",
       "        vertical-align: top;\n",
       "    }\n",
       "\n",
       "    .dataframe thead th {\n",
       "        text-align: right;\n",
       "    }\n",
       "</style>\n",
       "<table border=\"1\" class=\"dataframe\">\n",
       "  <thead>\n",
       "    <tr style=\"text-align: right;\">\n",
       "      <th></th>\n",
       "      <th>Age</th>\n",
       "      <th>Annual Income (k$)</th>\n",
       "      <th>Spending Score (1-100)</th>\n",
       "    </tr>\n",
       "  </thead>\n",
       "  <tbody>\n",
       "    <tr>\n",
       "      <th>count</th>\n",
       "      <td>200.000000</td>\n",
       "      <td>200.000000</td>\n",
       "      <td>200.000000</td>\n",
       "    </tr>\n",
       "    <tr>\n",
       "      <th>mean</th>\n",
       "      <td>38.850000</td>\n",
       "      <td>60.560000</td>\n",
       "      <td>50.200000</td>\n",
       "    </tr>\n",
       "    <tr>\n",
       "      <th>std</th>\n",
       "      <td>13.969007</td>\n",
       "      <td>26.264721</td>\n",
       "      <td>25.823522</td>\n",
       "    </tr>\n",
       "    <tr>\n",
       "      <th>min</th>\n",
       "      <td>18.000000</td>\n",
       "      <td>15.000000</td>\n",
       "      <td>1.000000</td>\n",
       "    </tr>\n",
       "    <tr>\n",
       "      <th>25%</th>\n",
       "      <td>28.750000</td>\n",
       "      <td>41.500000</td>\n",
       "      <td>34.750000</td>\n",
       "    </tr>\n",
       "    <tr>\n",
       "      <th>50%</th>\n",
       "      <td>36.000000</td>\n",
       "      <td>61.500000</td>\n",
       "      <td>50.000000</td>\n",
       "    </tr>\n",
       "    <tr>\n",
       "      <th>75%</th>\n",
       "      <td>49.000000</td>\n",
       "      <td>78.000000</td>\n",
       "      <td>73.000000</td>\n",
       "    </tr>\n",
       "    <tr>\n",
       "      <th>max</th>\n",
       "      <td>70.000000</td>\n",
       "      <td>137.000000</td>\n",
       "      <td>99.000000</td>\n",
       "    </tr>\n",
       "  </tbody>\n",
       "</table>\n",
       "</div>"
      ],
      "text/plain": [
       "              Age  Annual Income (k$)  Spending Score (1-100)\n",
       "count  200.000000          200.000000              200.000000\n",
       "mean    38.850000           60.560000               50.200000\n",
       "std     13.969007           26.264721               25.823522\n",
       "min     18.000000           15.000000                1.000000\n",
       "25%     28.750000           41.500000               34.750000\n",
       "50%     36.000000           61.500000               50.000000\n",
       "75%     49.000000           78.000000               73.000000\n",
       "max     70.000000          137.000000               99.000000"
      ]
     },
     "execution_count": 4,
     "metadata": {},
     "output_type": "execute_result"
    }
   ],
   "source": [
    "df.describe()"
   ]
  },
  {
   "cell_type": "code",
   "execution_count": 5,
   "metadata": {},
   "outputs": [
    {
     "data": {
      "text/plain": [
       "Gender                    0\n",
       "Age                       0\n",
       "Annual Income (k$)        0\n",
       "Spending Score (1-100)    0\n",
       "dtype: int64"
      ]
     },
     "execution_count": 5,
     "metadata": {},
     "output_type": "execute_result"
    }
   ],
   "source": [
    "df.isnull().sum()"
   ]
  },
  {
   "cell_type": "code",
   "execution_count": 6,
   "metadata": {},
   "outputs": [
    {
     "name": "stdout",
     "output_type": "stream",
     "text": [
      "---- Gender ----\n",
      "Female    112\n",
      "Male       88\n",
      "Name: Gender, dtype: int64\n",
      "\n",
      "\n",
      "---- Age ----\n",
      "32    11\n",
      "35     9\n",
      "19     8\n",
      "31     8\n",
      "30     7\n",
      "49     7\n",
      "40     6\n",
      "38     6\n",
      "47     6\n",
      "27     6\n",
      "36     6\n",
      "23     6\n",
      "34     5\n",
      "20     5\n",
      "29     5\n",
      "50     5\n",
      "48     5\n",
      "21     5\n",
      "24     4\n",
      "18     4\n",
      "28     4\n",
      "67     4\n",
      "59     4\n",
      "54     4\n",
      "43     3\n",
      "60     3\n",
      "45     3\n",
      "39     3\n",
      "33     3\n",
      "37     3\n",
      "22     3\n",
      "25     3\n",
      "46     3\n",
      "68     3\n",
      "52     2\n",
      "44     2\n",
      "66     2\n",
      "57     2\n",
      "26     2\n",
      "53     2\n",
      "42     2\n",
      "63     2\n",
      "70     2\n",
      "51     2\n",
      "58     2\n",
      "65     2\n",
      "41     2\n",
      "55     1\n",
      "69     1\n",
      "64     1\n",
      "56     1\n",
      "Name: Age, dtype: int64\n",
      "\n",
      "\n",
      "---- Annual Income (k$) ----\n",
      "54     12\n",
      "78     12\n",
      "48      6\n",
      "71      6\n",
      "63      6\n",
      "       ..\n",
      "58      2\n",
      "59      2\n",
      "16      2\n",
      "64      2\n",
      "137     2\n",
      "Name: Annual Income (k$), Length: 64, dtype: int64\n",
      "\n",
      "\n",
      "---- Spending Score (1-100) ----\n",
      "42    8\n",
      "55    7\n",
      "46    6\n",
      "73    6\n",
      "35    5\n",
      "     ..\n",
      "31    1\n",
      "44    1\n",
      "53    1\n",
      "65    1\n",
      "18    1\n",
      "Name: Spending Score (1-100), Length: 84, dtype: int64\n",
      "\n",
      "\n"
     ]
    }
   ],
   "source": [
    "# 각 칼럼에 대한 값 확인\n",
    "\n",
    "for column in df.columns:\n",
    "    print(f'---- {column} ----')\n",
    "    print(df[column].value_counts())\n",
    "    print('\\n')"
   ]
  },
  {
   "cell_type": "code",
   "execution_count": 7,
   "metadata": {},
   "outputs": [
    {
     "data": {
      "image/png": "[encoded data removed]",
      "text/plain": [
       "<Figure size 1440x1080 with 4 Axes>"
      ]
     },
     "metadata": {
      "needs_background": "light"
     },
     "output_type": "display_data"
    }
   ],
   "source": [
    "import matplotlib.pyplot as plt\n",
    "import seaborn as sns\n",
    "\n",
    "plt.figure(figsize=(20,15))\n",
    "\n",
    "# 각 열에 대해 히스토그램\n",
    "for i, col in enumerate(df.columns, 1):\n",
    "    plt.subplot(2, 2, i)\n",
    "    sns.histplot(df[col], bins=20, kde=True)\n",
    "    plt.title(f'{col}')\n",
    "    \n",
    "plt.tight_layout()\n",
    "\n",
    "plt.show()\n"
   ]
  },
  {
   "cell_type": "code",
   "execution_count": 8,
   "metadata": {},
   "outputs": [
    {
     "data": {
      "text/html": [
       "<div>\n",
       "<style scoped>\n",
       "    .dataframe tbody tr th:only-of-type {\n",
       "        vertical-align: middle;\n",
       "    }\n",
       "\n",
       "    .dataframe tbody tr th {\n",
       "        vertical-align: top;\n",
       "    }\n",
       "\n",
       "    .dataframe thead th {\n",
       "        text-align: right;\n",
       "    }\n",
       "</style>\n",
       "<table border=\"1\" class=\"dataframe\">\n",
       "  <thead>\n",
       "    <tr style=\"text-align: right;\">\n",
       "      <th></th>\n",
       "      <th>Age</th>\n",
       "      <th>Annual Income (k$)</th>\n",
       "      <th>Spending Score (1-100)</th>\n",
       "      <th>Gender_Female</th>\n",
       "      <th>Gender_Male</th>\n",
       "    </tr>\n",
       "    <tr>\n",
       "      <th>CustomerID</th>\n",
       "      <th></th>\n",
       "      <th></th>\n",
       "      <th></th>\n",
       "      <th></th>\n",
       "      <th></th>\n",
       "    </tr>\n",
       "  </thead>\n",
       "  <tbody>\n",
       "    <tr>\n",
       "      <th>1</th>\n",
       "      <td>-1.424569</td>\n",
       "      <td>-1.738999</td>\n",
       "      <td>-0.434801</td>\n",
       "      <td>-1.128152</td>\n",
       "      <td>1.128152</td>\n",
       "    </tr>\n",
       "    <tr>\n",
       "      <th>2</th>\n",
       "      <td>-1.281035</td>\n",
       "      <td>-1.738999</td>\n",
       "      <td>1.195704</td>\n",
       "      <td>-1.128152</td>\n",
       "      <td>1.128152</td>\n",
       "    </tr>\n",
       "    <tr>\n",
       "      <th>3</th>\n",
       "      <td>-1.352802</td>\n",
       "      <td>-1.700830</td>\n",
       "      <td>-1.715913</td>\n",
       "      <td>0.886405</td>\n",
       "      <td>-0.886405</td>\n",
       "    </tr>\n",
       "    <tr>\n",
       "      <th>4</th>\n",
       "      <td>-1.137502</td>\n",
       "      <td>-1.700830</td>\n",
       "      <td>1.040418</td>\n",
       "      <td>0.886405</td>\n",
       "      <td>-0.886405</td>\n",
       "    </tr>\n",
       "    <tr>\n",
       "      <th>5</th>\n",
       "      <td>-0.563369</td>\n",
       "      <td>-1.662660</td>\n",
       "      <td>-0.395980</td>\n",
       "      <td>0.886405</td>\n",
       "      <td>-0.886405</td>\n",
       "    </tr>\n",
       "    <tr>\n",
       "      <th>...</th>\n",
       "      <td>...</td>\n",
       "      <td>...</td>\n",
       "      <td>...</td>\n",
       "      <td>...</td>\n",
       "      <td>...</td>\n",
       "    </tr>\n",
       "    <tr>\n",
       "      <th>196</th>\n",
       "      <td>-0.276302</td>\n",
       "      <td>2.268791</td>\n",
       "      <td>1.118061</td>\n",
       "      <td>0.886405</td>\n",
       "      <td>-0.886405</td>\n",
       "    </tr>\n",
       "    <tr>\n",
       "      <th>197</th>\n",
       "      <td>0.441365</td>\n",
       "      <td>2.497807</td>\n",
       "      <td>-0.861839</td>\n",
       "      <td>0.886405</td>\n",
       "      <td>-0.886405</td>\n",
       "    </tr>\n",
       "    <tr>\n",
       "      <th>198</th>\n",
       "      <td>-0.491602</td>\n",
       "      <td>2.497807</td>\n",
       "      <td>0.923953</td>\n",
       "      <td>-1.128152</td>\n",
       "      <td>1.128152</td>\n",
       "    </tr>\n",
       "    <tr>\n",
       "      <th>199</th>\n",
       "      <td>-0.491602</td>\n",
       "      <td>2.917671</td>\n",
       "      <td>-1.250054</td>\n",
       "      <td>-1.128152</td>\n",
       "      <td>1.128152</td>\n",
       "    </tr>\n",
       "    <tr>\n",
       "      <th>200</th>\n",
       "      <td>-0.635135</td>\n",
       "      <td>2.917671</td>\n",
       "      <td>1.273347</td>\n",
       "      <td>-1.128152</td>\n",
       "      <td>1.128152</td>\n",
       "    </tr>\n",
       "  </tbody>\n",
       "</table>\n",
       "<p>200 rows × 5 columns</p>\n",
       "</div>"
      ],
      "text/plain": [
       "                 Age  Annual Income (k$)  Spending Score (1-100)  \\\n",
       "CustomerID                                                         \n",
       "1          -1.424569           -1.738999               -0.434801   \n",
       "2          -1.281035           -1.738999                1.195704   \n",
       "3          -1.352802           -1.700830               -1.715913   \n",
       "4          -1.137502           -1.700830                1.040418   \n",
       "5          -0.563369           -1.662660               -0.395980   \n",
       "...              ...                 ...                     ...   \n",
       "196        -0.276302            2.268791                1.118061   \n",
       "197         0.441365            2.497807               -0.861839   \n",
       "198        -0.491602            2.497807                0.923953   \n",
       "199        -0.491602            2.917671               -1.250054   \n",
       "200        -0.635135            2.917671                1.273347   \n",
       "\n",
       "            Gender_Female  Gender_Male  \n",
       "CustomerID                              \n",
       "1               -1.128152     1.128152  \n",
       "2               -1.128152     1.128152  \n",
       "3                0.886405    -0.886405  \n",
       "4                0.886405    -0.886405  \n",
       "5                0.886405    -0.886405  \n",
       "...                   ...          ...  \n",
       "196              0.886405    -0.886405  \n",
       "197              0.886405    -0.886405  \n",
       "198             -1.128152     1.128152  \n",
       "199             -1.128152     1.128152  \n",
       "200             -1.128152     1.128152  \n",
       "\n",
       "[200 rows x 5 columns]"
      ]
     },
     "execution_count": 8,
     "metadata": {},
     "output_type": "execute_result"
    }
   ],
   "source": [
    "from sklearn.preprocessing import StandardScaler\n",
    "\n",
    "df = pd.get_dummies(df, columns=['Gender'])\n",
    "\n",
    "scaler = StandardScaler()\n",
    "\n",
    "for col in df.columns:\n",
    "    df[[col]] = scaler.fit_transform(df[[col]])\n",
    "\n",
    "df"
   ]
  },
  {
   "cell_type": "markdown",
   "metadata": {},
   "source": [
    "## 2. Clustering"
   ]
  },
  {
   "cell_type": "code",
   "execution_count": 9,
   "metadata": {},
   "outputs": [
    {
     "name": "stdout",
     "output_type": "stream",
     "text": [
      "Optimal clusters: 9\n"
     ]
    }
   ],
   "source": [
    "from sklearn.cluster import KMeans\n",
    "from sklearn.metrics import silhouette_score\n",
    "\n",
    "silhouette_scores = []\n",
    "K = range(2,10)\n",
    "\n",
    "for k in K:\n",
    "    kmeans = KMeans(n_clusters=k)\n",
    "    kmeans.fit(df)\n",
    "    silhouette_scores.append(silhouette_score(df, kmeans.labels_))\n",
    "\n",
    "optimal_k = K[silhouette_scores.index(max(silhouette_scores))]\n",
    "print(f'Optimal clusters: {optimal_k}')\n"
   ]
  },
  {
   "cell_type": "code",
   "execution_count": 10,
   "metadata": {},
   "outputs": [
    {
     "name": "stdout",
     "output_type": "stream",
     "text": [
      "Best eps:  1.5\n",
      "Best min_samples:  3\n",
      "Best silhouette score:  0.39644160577705434\n"
     ]
    }
   ],
   "source": [
    "from sklearn.cluster import DBSCAN\n",
    "from sklearn.metrics import silhouette_score\n",
    "\n",
    "eps_values = [0.3, 0.5, 0.7, 1, 1.5, 2]  # 이웃을 정의하기 위한 최대 거리\n",
    "min_samples_values = [3, 5, 10, 15, 20]  # 핵심 데이터를 정의하기 위한 이웃의 최소 데이터 수\n",
    "\n",
    "best_eps = None\n",
    "best_min_samples = None\n",
    "best_score = -1\n",
    "\n",
    "for eps in eps_values:\n",
    "    for min_samples in min_samples_values:\n",
    "        dbscan = DBSCAN(eps=eps, min_samples=min_samples)\n",
    "        clusters = dbscan.fit_predict(df)\n",
    "        \n",
    "        if len(set(clusters)) > 1:\n",
    "            score = silhouette_score(df, clusters)\n",
    "        \n",
    "            if score > best_score:\n",
    "                best_eps = eps\n",
    "                best_min_samples = min_samples\n",
    "                best_score = score\n",
    "\n",
    "print('Best eps: ', best_eps)\n",
    "print('Best min_samples: ', best_min_samples)\n",
    "print('Best silhouette score: ', best_score)\n"
   ]
  },
  {
   "cell_type": "markdown",
   "metadata": {},
   "source": [
    "## 3. Evaluation"
   ]
  },
  {
   "cell_type": "code",
   "execution_count": 11,
   "metadata": {},
   "outputs": [],
   "source": [
    "import numpy as np\n",
    "from sklearn.metrics import pairwise_distances\n",
    "\n",
    "def dunn_index(X, labels):\n",
    "    distances = pairwise_distances(X)\n",
    "\n",
    "    max_within_cluster_distance = 0\n",
    "    min_between_cluster_distance = np.inf\n",
    "\n",
    "    for i in np.unique(labels):\n",
    "        within_cluster_distance = distances[labels == i][:, labels == i]\n",
    "        if within_cluster_distance.size > 0:\n",
    "            max_within_cluster_distance = max(max_within_cluster_distance, within_cluster_distance.max())\n",
    "\n",
    "        between_cluster_distance = distances[labels == i][:, labels != i]\n",
    "        if between_cluster_distance.size > 0:\n",
    "            min_between_cluster_distance = min(min_between_cluster_distance, between_cluster_distance.min())\n",
    "\n",
    "    return min_between_cluster_distance / max_within_cluster_distance\n"
   ]
  },
  {
   "cell_type": "code",
   "execution_count": 12,
   "metadata": {},
   "outputs": [
    {
     "name": "stdout",
     "output_type": "stream",
     "text": [
      "KMeans silhouette score:  0.4192788144704337\n",
      "KMeans Dunn index:  0.10697203654325164\n",
      "DBSCAN silhouette score:  0.39644160577705434\n",
      "DBSCAN Dunn index:  0.475769866601355\n"
     ]
    }
   ],
   "source": [
    "# KMeans 클러스터링 평가\n",
    "kmeans = KMeans(n_clusters=optimal_k)\n",
    "kmeans_clusters = kmeans.fit_predict(df)\n",
    "\n",
    "kmeans_silhouette = silhouette_score(df, kmeans_clusters)\n",
    "kmeans_dunn = dunn_index(df.values, kmeans_clusters)\n",
    "\n",
    "print('KMeans silhouette score: ', kmeans_silhouette)\n",
    "print('KMeans Dunn index: ', kmeans_dunn)\n",
    "\n",
    "# DBSCAN 클러스터링 평가\n",
    "dbscan = DBSCAN(eps=best_eps, min_samples=best_min_samples)\n",
    "dbscan_clusters = dbscan.fit_predict(df)\n",
    "\n",
    "dbscan_silhouette = silhouette_score(df, dbscan_clusters)\n",
    "dbscan_dunn = dunn_index(df.values, dbscan_clusters)\n",
    "\n",
    "print('DBSCAN silhouette score: ', dbscan_silhouette)\n",
    "print('DBSCAN Dunn index: ', dbscan_dunn)\n"
   ]
  }
 ],
 "metadata": {
  "colab": {
   "provenance": []
  },
  "kernelspec": {
   "display_name": "Python 3",
   "language": "python",
   "name": "python3"
  },
  "language_info": {
   "codemirror_mode": {
    "name": "ipython",
    "version": 3
   },
   "file_extension": ".py",
   "mimetype": "text/x-python",
   "name": "python",
   "nbconvert_exporter": "python",
   "pygments_lexer": "ipython3",
   "version": "3.7.16"
  }
 },
 "nbformat": 4,
 "nbformat_minor": 1
}

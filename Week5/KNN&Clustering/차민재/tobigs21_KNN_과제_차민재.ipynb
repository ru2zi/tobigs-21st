{
 "cells": [
  {
   "cell_type": "markdown",
   "metadata": {
    "id": "_PTZ7GaPe4PF"
   },
   "source": [
    "# 21기 KNN 정규세션 과제"
   ]
  },
  {
   "cell_type": "markdown",
   "metadata": {
    "id": "k_IkS8Ybe4PI"
   },
   "source": [
    "**데이터:** [blackfriday | Kaggle](https://www.kaggle.com/llopesolivei/blackfriday)"
   ]
  },
  {
   "cell_type": "markdown",
   "metadata": {
    "id": "ZvUdeo2he4PI"
   },
   "source": [
    "---"
   ]
  },
  {
   "cell_type": "code",
   "execution_count": 1,
   "metadata": {},
   "outputs": [],
   "source": [
    "import pandas as pd\n",
    "import numpy as np\n",
    "import matplotlib.pyplot as plt\n",
    "import seaborn as sns\n",
    "import warnings\n",
    "from scipy.stats import chi2_contingency\n",
    "\n",
    "\n",
    "from sklearn.model_selection import train_test_split\n",
    "from sklearn.preprocessing import StandardScaler\n",
    "from sklearn.neighbors import KNeighborsRegressor\n",
    "from sklearn.metrics import mean_squared_error\n",
    "from sklearn.model_selection import GridSearchCV\n",
    "\n",
    "warnings.filterwarnings(action='ignore')"
   ]
  },
  {
   "cell_type": "markdown",
   "metadata": {
    "id": "lTlQgiSie4PI"
   },
   "source": [
    "## 0. 데이터 불러오기"
   ]
  },
  {
   "cell_type": "code",
   "execution_count": 2,
   "metadata": {
    "id": "eNTRK8Ete4PJ",
    "outputId": "de247747-4645-49a6-c5d2-38cc1a381d42"
   },
   "outputs": [
    {
     "data": {
      "text/html": [
       "<div>\n",
       "<style scoped>\n",
       "    .dataframe tbody tr th:only-of-type {\n",
       "        vertical-align: middle;\n",
       "    }\n",
       "\n",
       "    .dataframe tbody tr th {\n",
       "        vertical-align: top;\n",
       "    }\n",
       "\n",
       "    .dataframe thead th {\n",
       "        text-align: right;\n",
       "    }\n",
       "</style>\n",
       "<table border=\"1\" class=\"dataframe\">\n",
       "  <thead>\n",
       "    <tr style=\"text-align: right;\">\n",
       "      <th></th>\n",
       "      <th>User_ID</th>\n",
       "      <th>Product_ID</th>\n",
       "      <th>Gender</th>\n",
       "      <th>Age</th>\n",
       "      <th>Occupation</th>\n",
       "      <th>City_Category</th>\n",
       "      <th>Stay_In_Current_City_Years</th>\n",
       "      <th>Marital_Status</th>\n",
       "      <th>Product_Category_1</th>\n",
       "      <th>Product_Category_2</th>\n",
       "      <th>Product_Category_3</th>\n",
       "      <th>Purchase</th>\n",
       "    </tr>\n",
       "  </thead>\n",
       "  <tbody>\n",
       "    <tr>\n",
       "      <th>0</th>\n",
       "      <td>1001088</td>\n",
       "      <td>P00046042</td>\n",
       "      <td>F</td>\n",
       "      <td>0-17</td>\n",
       "      <td>10</td>\n",
       "      <td>A</td>\n",
       "      <td>3</td>\n",
       "      <td>0</td>\n",
       "      <td>5</td>\n",
       "      <td>17.0</td>\n",
       "      <td>NaN</td>\n",
       "      <td>2010</td>\n",
       "    </tr>\n",
       "    <tr>\n",
       "      <th>1</th>\n",
       "      <td>1004493</td>\n",
       "      <td>P00347742</td>\n",
       "      <td>F</td>\n",
       "      <td>0-17</td>\n",
       "      <td>10</td>\n",
       "      <td>A</td>\n",
       "      <td>1</td>\n",
       "      <td>0</td>\n",
       "      <td>7</td>\n",
       "      <td>NaN</td>\n",
       "      <td>NaN</td>\n",
       "      <td>4483</td>\n",
       "    </tr>\n",
       "    <tr>\n",
       "      <th>2</th>\n",
       "      <td>1005302</td>\n",
       "      <td>P00048942</td>\n",
       "      <td>F</td>\n",
       "      <td>0-17</td>\n",
       "      <td>10</td>\n",
       "      <td>A</td>\n",
       "      <td>1</td>\n",
       "      <td>0</td>\n",
       "      <td>1</td>\n",
       "      <td>4.0</td>\n",
       "      <td>NaN</td>\n",
       "      <td>7696</td>\n",
       "    </tr>\n",
       "    <tr>\n",
       "      <th>3</th>\n",
       "      <td>1001348</td>\n",
       "      <td>P00145242</td>\n",
       "      <td>F</td>\n",
       "      <td>0-17</td>\n",
       "      <td>10</td>\n",
       "      <td>A</td>\n",
       "      <td>3</td>\n",
       "      <td>0</td>\n",
       "      <td>2</td>\n",
       "      <td>4.0</td>\n",
       "      <td>NaN</td>\n",
       "      <td>16429</td>\n",
       "    </tr>\n",
       "    <tr>\n",
       "      <th>4</th>\n",
       "      <td>1001348</td>\n",
       "      <td>P00106742</td>\n",
       "      <td>F</td>\n",
       "      <td>0-17</td>\n",
       "      <td>10</td>\n",
       "      <td>A</td>\n",
       "      <td>3</td>\n",
       "      <td>0</td>\n",
       "      <td>3</td>\n",
       "      <td>5.0</td>\n",
       "      <td>NaN</td>\n",
       "      <td>5780</td>\n",
       "    </tr>\n",
       "  </tbody>\n",
       "</table>\n",
       "</div>"
      ],
      "text/plain": [
       "   User_ID Product_ID Gender   Age  Occupation City_Category  \\\n",
       "0  1001088  P00046042      F  0-17          10             A   \n",
       "1  1004493  P00347742      F  0-17          10             A   \n",
       "2  1005302  P00048942      F  0-17          10             A   \n",
       "3  1001348  P00145242      F  0-17          10             A   \n",
       "4  1001348  P00106742      F  0-17          10             A   \n",
       "\n",
       "  Stay_In_Current_City_Years  Marital_Status  Product_Category_1  \\\n",
       "0                          3               0                   5   \n",
       "1                          1               0                   7   \n",
       "2                          1               0                   1   \n",
       "3                          3               0                   2   \n",
       "4                          3               0                   3   \n",
       "\n",
       "   Product_Category_2  Product_Category_3  Purchase  \n",
       "0                17.0                 NaN      2010  \n",
       "1                 NaN                 NaN      4483  \n",
       "2                 4.0                 NaN      7696  \n",
       "3                 4.0                 NaN     16429  \n",
       "4                 5.0                 NaN      5780  "
      ]
     },
     "execution_count": 2,
     "metadata": {},
     "output_type": "execute_result"
    }
   ],
   "source": [
    "df = pd.read_csv(\"blackfriday.csv\", index_col = 0)\n",
    "df.head()"
   ]
  },
  {
   "cell_type": "markdown",
   "metadata": {},
   "source": [
    "## 1. Preprocssing / EDA"
   ]
  },
  {
   "cell_type": "code",
   "execution_count": 3,
   "metadata": {},
   "outputs": [
    {
     "name": "stdout",
     "output_type": "stream",
     "text": [
      "<class 'pandas.core.frame.DataFrame'>\n",
      "Int64Index: 4998 entries, 0 to 4997\n",
      "Data columns (total 12 columns):\n",
      " #   Column                      Non-Null Count  Dtype  \n",
      "---  ------                      --------------  -----  \n",
      " 0   User_ID                     4998 non-null   int64  \n",
      " 1   Product_ID                  4998 non-null   object \n",
      " 2   Gender                      4998 non-null   object \n",
      " 3   Age                         4998 non-null   object \n",
      " 4   Occupation                  4998 non-null   int64  \n",
      " 5   City_Category               4998 non-null   object \n",
      " 6   Stay_In_Current_City_Years  4998 non-null   object \n",
      " 7   Marital_Status              4998 non-null   int64  \n",
      " 8   Product_Category_1          4998 non-null   int64  \n",
      " 9   Product_Category_2          3465 non-null   float64\n",
      " 10  Product_Category_3          1544 non-null   float64\n",
      " 11  Purchase                    4998 non-null   int64  \n",
      "dtypes: float64(2), int64(5), object(5)\n",
      "memory usage: 507.6+ KB\n"
     ]
    }
   ],
   "source": [
    "df.info()"
   ]
  },
  {
   "cell_type": "markdown",
   "metadata": {},
   "source": [
    "### 결측치"
   ]
  },
  {
   "cell_type": "code",
   "execution_count": 4,
   "metadata": {},
   "outputs": [
    {
     "data": {
      "text/plain": [
       "User_ID                          0\n",
       "Product_ID                       0\n",
       "Gender                           0\n",
       "Age                              0\n",
       "Occupation                       0\n",
       "City_Category                    0\n",
       "Stay_In_Current_City_Years       0\n",
       "Marital_Status                   0\n",
       "Product_Category_1               0\n",
       "Product_Category_2            1533\n",
       "Product_Category_3            3454\n",
       "Purchase                         0\n",
       "dtype: int64"
      ]
     },
     "execution_count": 4,
     "metadata": {},
     "output_type": "execute_result"
    }
   ],
   "source": [
    "df.isnull().sum()"
   ]
  },
  {
   "cell_type": "markdown",
   "metadata": {},
   "source": [
    "➡️ 전체 데이터 개수 대비 **`Product_Category_3`** 결측치가 많아서 **컬럼 제거**"
   ]
  },
  {
   "cell_type": "code",
   "execution_count": 5,
   "metadata": {},
   "outputs": [],
   "source": [
    "# 컬럼 제거 \n",
    "df.drop('Product_Category_3', axis = 1, inplace = True)"
   ]
  },
  {
   "attachments": {
    "image.png": {
     "image/png": "[encoded data removed]"
    }
   },
   "cell_type": "markdown",
   "metadata": {},
   "source": [
    "✅ **`Product_Category_2`** 결측치 \n",
    "\n",
    "- **`Product_Category_1`** 과 **`Product_ID`** 중 상관관계가 높은 컬럼을 기준으로 **`Product_Category_2`** 의 결측치를 처리한다\n",
    "- 이때, **`Product_ID`** 의 일렬번호 앞부분 일부만을 사용하여 그룹화한 뒤, 상관계수를 구한다\n",
    "- 3개의 컬럼 모두 범주형 변수이므로, 크래머 V 계수를 사용하여 비교한다.\n",
    "\n",
    "✅ Cramer's V \n",
    "![image.png](attachment:image.png)\n",
    "\n",
    "- 두 범주형 변수 사이의 관계 파악\n",
    "- 비교 대상 범주 대상이 3개 이상인 경우"
   ]
  },
  {
   "cell_type": "code",
   "execution_count": 6,
   "metadata": {},
   "outputs": [],
   "source": [
    "def cramers_v(df, col1, col2) :\n",
    "    cross_tab = pd.crosstab(df[col1], df[col2])\n",
    "    \n",
    "    # 카이제곱 검정 수행\n",
    "    chi2, p, dof, expected = chi2_contingency(cross_tab)\n",
    "\n",
    "    # 크래머의 V 계산\n",
    "    n = cross_tab.sum().sum()  # 총 관측치 수\n",
    "    min_dim = min(cross_tab.shape) - 1  # k (행) 와 r (열) 중 작은 값에서 1을 뺀 값\n",
    "    cramers_v = np.sqrt(chi2 / (n * min_dim))\n",
    "    \n",
    "    return cramers_v"
   ]
  },
  {
   "cell_type": "code",
   "execution_count": 7,
   "metadata": {},
   "outputs": [
    {
     "data": {
      "text/html": [
       "<div>\n",
       "<style scoped>\n",
       "    .dataframe tbody tr th:only-of-type {\n",
       "        vertical-align: middle;\n",
       "    }\n",
       "\n",
       "    .dataframe tbody tr th {\n",
       "        vertical-align: top;\n",
       "    }\n",
       "\n",
       "    .dataframe thead th {\n",
       "        text-align: right;\n",
       "    }\n",
       "</style>\n",
       "<table border=\"1\" class=\"dataframe\">\n",
       "  <thead>\n",
       "    <tr style=\"text-align: right;\">\n",
       "      <th></th>\n",
       "      <th>User_ID</th>\n",
       "      <th>Product_ID</th>\n",
       "      <th>Gender</th>\n",
       "      <th>Age</th>\n",
       "      <th>Occupation</th>\n",
       "      <th>City_Category</th>\n",
       "      <th>Stay_In_Current_City_Years</th>\n",
       "      <th>Marital_Status</th>\n",
       "      <th>Product_Category_1</th>\n",
       "      <th>Product_Category_2</th>\n",
       "      <th>Purchase</th>\n",
       "      <th>Serial_Number</th>\n",
       "    </tr>\n",
       "  </thead>\n",
       "  <tbody>\n",
       "    <tr>\n",
       "      <th>0</th>\n",
       "      <td>1001088</td>\n",
       "      <td>P00046042</td>\n",
       "      <td>F</td>\n",
       "      <td>0-17</td>\n",
       "      <td>10</td>\n",
       "      <td>A</td>\n",
       "      <td>3</td>\n",
       "      <td>0</td>\n",
       "      <td>5</td>\n",
       "      <td>17.0</td>\n",
       "      <td>2010</td>\n",
       "      <td>P000</td>\n",
       "    </tr>\n",
       "    <tr>\n",
       "      <th>1</th>\n",
       "      <td>1004493</td>\n",
       "      <td>P00347742</td>\n",
       "      <td>F</td>\n",
       "      <td>0-17</td>\n",
       "      <td>10</td>\n",
       "      <td>A</td>\n",
       "      <td>1</td>\n",
       "      <td>0</td>\n",
       "      <td>7</td>\n",
       "      <td>NaN</td>\n",
       "      <td>4483</td>\n",
       "      <td>P003</td>\n",
       "    </tr>\n",
       "    <tr>\n",
       "      <th>2</th>\n",
       "      <td>1005302</td>\n",
       "      <td>P00048942</td>\n",
       "      <td>F</td>\n",
       "      <td>0-17</td>\n",
       "      <td>10</td>\n",
       "      <td>A</td>\n",
       "      <td>1</td>\n",
       "      <td>0</td>\n",
       "      <td>1</td>\n",
       "      <td>4.0</td>\n",
       "      <td>7696</td>\n",
       "      <td>P000</td>\n",
       "    </tr>\n",
       "    <tr>\n",
       "      <th>3</th>\n",
       "      <td>1001348</td>\n",
       "      <td>P00145242</td>\n",
       "      <td>F</td>\n",
       "      <td>0-17</td>\n",
       "      <td>10</td>\n",
       "      <td>A</td>\n",
       "      <td>3</td>\n",
       "      <td>0</td>\n",
       "      <td>2</td>\n",
       "      <td>4.0</td>\n",
       "      <td>16429</td>\n",
       "      <td>P001</td>\n",
       "    </tr>\n",
       "    <tr>\n",
       "      <th>4</th>\n",
       "      <td>1001348</td>\n",
       "      <td>P00106742</td>\n",
       "      <td>F</td>\n",
       "      <td>0-17</td>\n",
       "      <td>10</td>\n",
       "      <td>A</td>\n",
       "      <td>3</td>\n",
       "      <td>0</td>\n",
       "      <td>3</td>\n",
       "      <td>5.0</td>\n",
       "      <td>5780</td>\n",
       "      <td>P001</td>\n",
       "    </tr>\n",
       "  </tbody>\n",
       "</table>\n",
       "</div>"
      ],
      "text/plain": [
       "   User_ID Product_ID Gender   Age  Occupation City_Category  \\\n",
       "0  1001088  P00046042      F  0-17          10             A   \n",
       "1  1004493  P00347742      F  0-17          10             A   \n",
       "2  1005302  P00048942      F  0-17          10             A   \n",
       "3  1001348  P00145242      F  0-17          10             A   \n",
       "4  1001348  P00106742      F  0-17          10             A   \n",
       "\n",
       "  Stay_In_Current_City_Years  Marital_Status  Product_Category_1  \\\n",
       "0                          3               0                   5   \n",
       "1                          1               0                   7   \n",
       "2                          1               0                   1   \n",
       "3                          3               0                   2   \n",
       "4                          3               0                   3   \n",
       "\n",
       "   Product_Category_2  Purchase Serial_Number  \n",
       "0                17.0      2010          P000  \n",
       "1                 NaN      4483          P003  \n",
       "2                 4.0      7696          P000  \n",
       "3                 4.0     16429          P001  \n",
       "4                 5.0      5780          P001  "
      ]
     },
     "execution_count": 7,
     "metadata": {},
     "output_type": "execute_result"
    }
   ],
   "source": [
    "# Product_ID 일렬번호 앞부분 생성\n",
    "df['Serial_Number'] = df['Product_ID'].str[:4]\n",
    "df.head()"
   ]
  },
  {
   "cell_type": "code",
   "execution_count": 8,
   "metadata": {},
   "outputs": [
    {
     "data": {
      "text/plain": [
       "0.17157116507337614"
      ]
     },
     "execution_count": 8,
     "metadata": {},
     "output_type": "execute_result"
    }
   ],
   "source": [
    "# Serial_Number, Product_Category_2 관계\n",
    "cramers_v(df, 'Serial_Number', 'Product_Category_2')"
   ]
  },
  {
   "cell_type": "code",
   "execution_count": 9,
   "metadata": {},
   "outputs": [
    {
     "data": {
      "text/plain": [
       "0.40260250264303693"
      ]
     },
     "execution_count": 9,
     "metadata": {},
     "output_type": "execute_result"
    }
   ],
   "source": [
    "# Product_Category_1, Product_Category_2 관계\n",
    "cramers_v(df, 'Product_Category_1', 'Product_Category_2')"
   ]
  },
  {
   "cell_type": "markdown",
   "metadata": {},
   "source": [
    "➡️ 크래머 계수를 비교했을 때, **`Product_Category_1`** 와의 값이 더 크기 때문에 이를 기준으로 결측치를 채운다. 단, 아래 결과와 같이 최빈값이 none인 경우가 나타난다. 최빈값을 구할 수 없는 데이터는 제거한다. "
   ]
  },
  {
   "cell_type": "code",
   "execution_count": 10,
   "metadata": {},
   "outputs": [
    {
     "data": {
      "text/plain": [
       "Product_Category_1\n",
       "1      2.0\n",
       "2      4.0\n",
       "3      4.0\n",
       "4      5.0\n",
       "5      8.0\n",
       "6      8.0\n",
       "7     17.0\n",
       "8     14.0\n",
       "9       []\n",
       "10    15.0\n",
       "11    16.0\n",
       "12    14.0\n",
       "13    16.0\n",
       "14    16.0\n",
       "15    16.0\n",
       "16      []\n",
       "17      []\n",
       "18      []\n",
       "19      []\n",
       "20      []\n",
       "Name: Product_Category_2, dtype: object"
      ]
     },
     "execution_count": 10,
     "metadata": {},
     "output_type": "execute_result"
    }
   ],
   "source": [
    "# Product_Category_1 별 Product_Category_2의 최빈값 출력\n",
    "cat1_mode = df.groupby('Product_Category_1')['Product_Category_2'].agg(pd.Series.mode)\n",
    "cat1_mode"
   ]
  },
  {
   "cell_type": "code",
   "execution_count": 11,
   "metadata": {},
   "outputs": [],
   "source": [
    "# 최빈값 대체\n",
    "for category, mode in cat1_mode.iteritems():\n",
    "    if mode.size == 0 :\n",
    "        continue\n",
    "    else :\n",
    "        df.loc[(df['Product_Category_1'] == category) & (df['Product_Category_2'].isnull()), 'Product_Category_2'] = mode"
   ]
  },
  {
   "cell_type": "code",
   "execution_count": 12,
   "metadata": {},
   "outputs": [],
   "source": [
    "# 나머지 결측행 제거\n",
    "df = df.dropna()"
   ]
  },
  {
   "cell_type": "markdown",
   "metadata": {},
   "source": [
    "### EDA"
   ]
  },
  {
   "cell_type": "code",
   "execution_count": 7,
   "metadata": {},
   "outputs": [
    {
     "data": {
      "text/plain": [
       "<AxesSubplot:xlabel='Marital_Status', ylabel='Purchase'>"
      ]
     },
     "execution_count": 7,
     "metadata": {},
     "output_type": "execute_result"
    },
    {
     "data": {
      "image/png": "[encoded data removed]",
      "text/plain": [
       "<Figure size 2000x1500 with 6 Axes>"
      ]
     },
     "metadata": {},
     "output_type": "display_data"
    }
   ],
   "source": [
    "fig, ax = plt.subplots(3, 2, figsize=(20, 15))\n",
    "\n",
    "sns.boxplot(x='Gender', y='Purchase', data=df, palette='Set2', ax=ax[0, 0])\n",
    "\n",
    "sns.boxplot(x='Age', y='Purchase', data=df, palette='Set2',  ax=ax[0, 1])\n",
    "\n",
    "sns.boxplot(x='City_Category', y='Purchase', data=df, palette='Set2',  ax=ax[1, 0])\n",
    "\n",
    "sns.boxplot(x='Stay_In_Current_City_Years', y='Purchase', data=df, palette='Set2',  ax=ax[1, 1])\n",
    "\n",
    "sns.boxplot(x='Marital_Status', y='Purchase', data=df, palette='Set2',  ax=ax[2, 0])"
   ]
  },
  {
   "cell_type": "code",
   "execution_count": 8,
   "metadata": {},
   "outputs": [
    {
     "data": {
      "image/png": "[encoded data removed]",
      "text/plain": [
       "<Figure size 2000x500 with 1 Axes>"
      ]
     },
     "metadata": {},
     "output_type": "display_data"
    }
   ],
   "source": [
    "sns.catplot(x='Occupation', y='Purchase', data=df, kind = 'box', palette='Set2', aspect = 4)\n",
    "plt.show()"
   ]
  },
  {
   "cell_type": "code",
   "execution_count": 9,
   "metadata": {},
   "outputs": [
    {
     "data": {
      "image/png": "[encoded data removed]",
      "text/plain": [
       "<Figure size 2000x500 with 1 Axes>"
      ]
     },
     "metadata": {},
     "output_type": "display_data"
    }
   ],
   "source": [
    "sns.catplot(x='Product_Category_1', y='Purchase', data=df, kind = 'box', palette='Set2', aspect = 4)\n",
    "plt.show()"
   ]
  },
  {
   "cell_type": "markdown",
   "metadata": {},
   "source": [
    "### 컬럼 제거"
   ]
  },
  {
   "cell_type": "code",
   "execution_count": 13,
   "metadata": {},
   "outputs": [],
   "source": [
    "df.drop(['User_ID', 'Product_ID','Serial_Number'], axis =1, inplace = True)"
   ]
  },
  {
   "cell_type": "markdown",
   "metadata": {},
   "source": [
    "### 중복 확인"
   ]
  },
  {
   "cell_type": "code",
   "execution_count": 19,
   "metadata": {},
   "outputs": [
    {
     "data": {
      "text/html": [
       "<div>\n",
       "<style scoped>\n",
       "    .dataframe tbody tr th:only-of-type {\n",
       "        vertical-align: middle;\n",
       "    }\n",
       "\n",
       "    .dataframe tbody tr th {\n",
       "        vertical-align: top;\n",
       "    }\n",
       "\n",
       "    .dataframe thead th {\n",
       "        text-align: right;\n",
       "    }\n",
       "</style>\n",
       "<table border=\"1\" class=\"dataframe\">\n",
       "  <thead>\n",
       "    <tr style=\"text-align: right;\">\n",
       "      <th></th>\n",
       "      <th>Gender</th>\n",
       "      <th>Age</th>\n",
       "      <th>Occupation</th>\n",
       "      <th>City_Category</th>\n",
       "      <th>Stay_In_Current_City_Years</th>\n",
       "      <th>Marital_Status</th>\n",
       "      <th>Product_Category_1</th>\n",
       "      <th>Product_Category_2</th>\n",
       "      <th>Purchase</th>\n",
       "    </tr>\n",
       "  </thead>\n",
       "  <tbody>\n",
       "    <tr>\n",
       "      <th>343</th>\n",
       "      <td>F</td>\n",
       "      <td>18-25</td>\n",
       "      <td>4</td>\n",
       "      <td>C</td>\n",
       "      <td>4+</td>\n",
       "      <td>0</td>\n",
       "      <td>5</td>\n",
       "      <td>8.0</td>\n",
       "      <td>5259</td>\n",
       "    </tr>\n",
       "  </tbody>\n",
       "</table>\n",
       "</div>"
      ],
      "text/plain": [
       "    Gender    Age  Occupation City_Category Stay_In_Current_City_Years  \\\n",
       "343      F  18-25           4             C                         4+   \n",
       "\n",
       "     Marital_Status  Product_Category_1  Product_Category_2  Purchase  \n",
       "343               0                   5                 8.0      5259  "
      ]
     },
     "execution_count": 19,
     "metadata": {},
     "output_type": "execute_result"
    }
   ],
   "source": [
    "df[df.duplicated()]"
   ]
  },
  {
   "cell_type": "code",
   "execution_count": 20,
   "metadata": {},
   "outputs": [],
   "source": [
    "df = df.drop_duplicates(keep='first')"
   ]
  },
  {
   "cell_type": "markdown",
   "metadata": {},
   "source": [
    "### 원핫인코딩"
   ]
  },
  {
   "cell_type": "code",
   "execution_count": 23,
   "metadata": {},
   "outputs": [
    {
     "data": {
      "text/plain": [
       "Index(['Purchase', 'Gender_F', 'Gender_M', 'Age_0-17', 'Age_18-25',\n",
       "       'Age_26-35', 'Age_36-45', 'Age_46-50', 'Age_51-55', 'Age_55+',\n",
       "       'Occupation_0', 'Occupation_1', 'Occupation_2', 'Occupation_3',\n",
       "       'Occupation_4', 'Occupation_5', 'Occupation_6', 'Occupation_7',\n",
       "       'Occupation_8', 'Occupation_9', 'Occupation_10', 'Occupation_11',\n",
       "       'Occupation_12', 'Occupation_13', 'Occupation_14', 'Occupation_15',\n",
       "       'Occupation_16', 'Occupation_17', 'Occupation_18', 'Occupation_19',\n",
       "       'Occupation_20', 'Marital_Status_0', 'Marital_Status_1',\n",
       "       'City_Category_A', 'City_Category_B', 'City_Category_C',\n",
       "       'Stay_In_Current_City_Years_0', 'Stay_In_Current_City_Years_1',\n",
       "       'Stay_In_Current_City_Years_2', 'Stay_In_Current_City_Years_3',\n",
       "       'Stay_In_Current_City_Years_4+', 'Product_Category_1_1',\n",
       "       'Product_Category_1_2', 'Product_Category_1_3', 'Product_Category_1_4',\n",
       "       'Product_Category_1_5', 'Product_Category_1_6', 'Product_Category_1_7',\n",
       "       'Product_Category_1_8', 'Product_Category_1_10',\n",
       "       'Product_Category_1_11', 'Product_Category_1_12',\n",
       "       'Product_Category_1_13', 'Product_Category_1_14',\n",
       "       'Product_Category_1_15', 'Product_Category_2_2.0',\n",
       "       'Product_Category_2_3.0', 'Product_Category_2_4.0',\n",
       "       'Product_Category_2_5.0', 'Product_Category_2_6.0',\n",
       "       'Product_Category_2_7.0', 'Product_Category_2_8.0',\n",
       "       'Product_Category_2_9.0', 'Product_Category_2_10.0',\n",
       "       'Product_Category_2_11.0', 'Product_Category_2_12.0',\n",
       "       'Product_Category_2_13.0', 'Product_Category_2_14.0',\n",
       "       'Product_Category_2_15.0', 'Product_Category_2_16.0',\n",
       "       'Product_Category_2_17.0', 'Product_Category_2_18.0'],\n",
       "      dtype='object')"
      ]
     },
     "execution_count": 23,
     "metadata": {},
     "output_type": "execute_result"
    }
   ],
   "source": [
    "categorical_cols = ['Gender', \"Age\", \"Occupation\", 'Marital_Status','City_Category', \n",
    "                    'Stay_In_Current_City_Years', 'Product_Category_1', \n",
    "                    'Product_Category_2']\n",
    "dummy_df = pd.get_dummies(df, columns=categorical_cols)\n",
    "dummy_df.columns"
   ]
  },
  {
   "cell_type": "markdown",
   "metadata": {},
   "source": [
    "## 2. KNN 구현 & 파라미터 튜닝"
   ]
  },
  {
   "cell_type": "code",
   "execution_count": 46,
   "metadata": {},
   "outputs": [],
   "source": [
    "# train, test set 분리\n",
    "X = dummy_df.drop(['Purchase'], axis=1)\n",
    "y = dummy_df['Purchase']\n",
    "\n",
    "X_train, X_test, y_train, y_test = train_test_split(X, y, test_size = 0.2, shuffle = True, random_state = 42)"
   ]
  },
  {
   "cell_type": "code",
   "execution_count": 47,
   "metadata": {},
   "outputs": [],
   "source": [
    "# 표준화\n",
    "scaler = StandardScaler()\n",
    "X_train_scaled = scaler.fit_transform(X_train)\n",
    "X_test_scaled = scaler.transform(X_test)"
   ]
  },
  {
   "cell_type": "code",
   "execution_count": 48,
   "metadata": {},
   "outputs": [
    {
     "data": {
      "text/plain": [
       "KNeighborsRegressor()"
      ]
     },
     "execution_count": 48,
     "metadata": {},
     "output_type": "execute_result"
    }
   ],
   "source": [
    "# KNN \n",
    "knn = KNeighborsRegressor()\n",
    "knn.fit(X_train, y_train)"
   ]
  },
  {
   "cell_type": "code",
   "execution_count": 49,
   "metadata": {},
   "outputs": [
    {
     "name": "stdout",
     "output_type": "stream",
     "text": [
      "15842908.68747162\n"
     ]
    }
   ],
   "source": [
    "y_pred = knn.predict(X_test)\n",
    "mse = mean_squared_error(y_test, y_pred)\n",
    "print(mse)"
   ]
  },
  {
   "cell_type": "markdown",
   "metadata": {},
   "source": [
    "### 하이퍼파라미터 튜닝"
   ]
  },
  {
   "cell_type": "code",
   "execution_count": 62,
   "metadata": {},
   "outputs": [
    {
     "name": "stdout",
     "output_type": "stream",
     "text": [
      "Best Parameters :  {'metric': 'euclidean', 'n_neighbors': 19, 'weights': 'uniform'}\n",
      "Best Score :  14461133.583656695\n"
     ]
    }
   ],
   "source": [
    "grid_params = {\n",
    "    'n_neighbors' : [3,5,7,9,11,13,15,19],\n",
    "    'weights' : [\"uniform\", \"distance\"],\n",
    "    'metric' : ['euclidean', 'manhattan', 'minkowski']\n",
    "}\n",
    "\n",
    "knn = KNeighborsRegressor()\n",
    "\n",
    "grid_search = GridSearchCV(knn, grid_params, cv=5, scoring='neg_mean_squared_error')\n",
    "grid_search.fit(X_train, y_train)\n",
    "\n",
    "print(\"Best Parameters : \", grid_search.best_params_)\n",
    "print(\"Best Score : \", -grid_search.best_score_)"
   ]
  },
  {
   "cell_type": "markdown",
   "metadata": {},
   "source": [
    "## 3. Evaluation"
   ]
  },
  {
   "cell_type": "code",
   "execution_count": 63,
   "metadata": {},
   "outputs": [
    {
     "name": "stdout",
     "output_type": "stream",
     "text": [
      "MSE : 14768825.86\n"
     ]
    }
   ],
   "source": [
    "y_pred = grid_search.best_estimator_.predict(X_test)\n",
    "mse = mean_squared_error(y_test, y_pred)\n",
    "\n",
    "print(\"MSE : {:.2f}\".format(mse))"
   ]
  }
 ],
 "metadata": {
  "colab": {
   "provenance": []
  },
  "kernelspec": {
   "display_name": "Python 3 (ipykernel)",
   "language": "python",
   "name": "python3"
  },
  "language_info": {
   "codemirror_mode": {
    "name": "ipython",
    "version": 3
   },
   "file_extension": ".py",
   "mimetype": "text/x-python",
   "name": "python",
   "nbconvert_exporter": "python",
   "pygments_lexer": "ipython3",
   "version": "3.9.13"
  }
 },
 "nbformat": 4,
 "nbformat_minor": 1
}

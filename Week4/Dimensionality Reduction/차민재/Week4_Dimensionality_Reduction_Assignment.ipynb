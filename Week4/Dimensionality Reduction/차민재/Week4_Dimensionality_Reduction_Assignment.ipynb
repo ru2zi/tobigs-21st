{
 "cells": [
  {
   "cell_type": "markdown",
   "metadata": {
    "id": "aXOXCEJGeFtD"
   },
   "source": [
    "# PCA & LDA on MNIST"
   ]
  },
  {
   "cell_type": "code",
   "execution_count": 1,
   "metadata": {
    "executionInfo": {
     "elapsed": 326,
     "status": "ok",
     "timestamp": 1707023154960,
     "user": {
      "displayName": "양승빈",
      "userId": "11252416077483933428"
     },
     "user_tz": -540
    },
    "id": "_zelCUTue3mn"
   },
   "outputs": [],
   "source": [
    "import torch\n",
    "import torch.nn as nn\n",
    "import torch.nn.functional as F\n",
    "import torch.optim as optim\n",
    "from torchvision import datasets, transforms\n",
    "from matplotlib import pyplot as plt\n",
    "import pandas as pd\n",
    "import numpy as np"
   ]
  },
  {
   "cell_type": "markdown",
   "metadata": {
    "id": "MeWkO5RVeMDA"
   },
   "source": [
    "## 1. Train KNN on MNIST Dataset"
   ]
  },
  {
   "cell_type": "code",
   "execution_count": 2,
   "metadata": {
    "colab": {
     "base_uri": "https://localhost:8080/"
    },
    "executionInfo": {
     "elapsed": 2,
     "status": "ok",
     "timestamp": 1707022875838,
     "user": {
      "displayName": "양승빈",
      "userId": "11252416077483933428"
     },
     "user_tz": -540
    },
    "id": "JeFNEaC3d6HZ",
    "outputId": "10a9d9d3-4477-4623-ad97-fca1fee0c926"
   },
   "outputs": [
    {
     "name": "stdout",
     "output_type": "stream",
     "text": [
      "number of training data :  60000\n",
      "number of test data :  10000\n"
     ]
    }
   ],
   "source": [
    "train_data = datasets.MNIST(root = './data/02/',\n",
    "                            train=True,\n",
    "                            download=True,\n",
    "                            transform=transforms.ToTensor())\n",
    "test_data = datasets.MNIST(root = './data/02/',\n",
    "                            train=False,\n",
    "                            download=True,\n",
    "                            transform=transforms.ToTensor())\n",
    "print('number of training data : ', len(train_data))\n",
    "print('number of test data : ', len(test_data))"
   ]
  },
  {
   "cell_type": "code",
   "execution_count": 3,
   "metadata": {
    "id": "j0UNSsLEfRsd"
   },
   "outputs": [
    {
     "data": {
      "text/plain": [
       "((60000, 784), (10000, 784))"
      ]
     },
     "execution_count": 3,
     "metadata": {},
     "output_type": "execute_result"
    }
   ],
   "source": [
    "# 데이터 모양 확인을 위해 dataframe 형태로 변환\n",
    "\n",
    "feat_cols = ['pixel'+str(i) for i in range(784)]\n",
    "df_train = pd.DataFrame(train_data.data.reshape(60000,-1).numpy(), columns = feat_cols)\n",
    "df_test = pd.DataFrame(test_data.data.reshape(10000,-1).numpy(), columns = feat_cols)\n",
    "\n",
    "df_train.shape, df_test.shape"
   ]
  },
  {
   "cell_type": "code",
   "execution_count": 4,
   "metadata": {
    "id": "5Y3-Hz1IgV5K"
   },
   "outputs": [
    {
     "data": {
      "text/html": [
       "<div>\n",
       "<style scoped>\n",
       "    .dataframe tbody tr th:only-of-type {\n",
       "        vertical-align: middle;\n",
       "    }\n",
       "\n",
       "    .dataframe tbody tr th {\n",
       "        vertical-align: top;\n",
       "    }\n",
       "\n",
       "    .dataframe thead th {\n",
       "        text-align: right;\n",
       "    }\n",
       "</style>\n",
       "<table border=\"1\" class=\"dataframe\">\n",
       "  <thead>\n",
       "    <tr style=\"text-align: right;\">\n",
       "      <th></th>\n",
       "      <th>pixel0</th>\n",
       "      <th>pixel1</th>\n",
       "      <th>pixel2</th>\n",
       "      <th>pixel3</th>\n",
       "      <th>pixel4</th>\n",
       "      <th>pixel5</th>\n",
       "      <th>pixel6</th>\n",
       "      <th>pixel7</th>\n",
       "      <th>pixel8</th>\n",
       "      <th>pixel9</th>\n",
       "      <th>...</th>\n",
       "      <th>pixel774</th>\n",
       "      <th>pixel775</th>\n",
       "      <th>pixel776</th>\n",
       "      <th>pixel777</th>\n",
       "      <th>pixel778</th>\n",
       "      <th>pixel779</th>\n",
       "      <th>pixel780</th>\n",
       "      <th>pixel781</th>\n",
       "      <th>pixel782</th>\n",
       "      <th>pixel783</th>\n",
       "    </tr>\n",
       "  </thead>\n",
       "  <tbody>\n",
       "    <tr>\n",
       "      <th>0</th>\n",
       "      <td>0</td>\n",
       "      <td>0</td>\n",
       "      <td>0</td>\n",
       "      <td>0</td>\n",
       "      <td>0</td>\n",
       "      <td>0</td>\n",
       "      <td>0</td>\n",
       "      <td>0</td>\n",
       "      <td>0</td>\n",
       "      <td>0</td>\n",
       "      <td>...</td>\n",
       "      <td>0</td>\n",
       "      <td>0</td>\n",
       "      <td>0</td>\n",
       "      <td>0</td>\n",
       "      <td>0</td>\n",
       "      <td>0</td>\n",
       "      <td>0</td>\n",
       "      <td>0</td>\n",
       "      <td>0</td>\n",
       "      <td>0</td>\n",
       "    </tr>\n",
       "    <tr>\n",
       "      <th>1</th>\n",
       "      <td>0</td>\n",
       "      <td>0</td>\n",
       "      <td>0</td>\n",
       "      <td>0</td>\n",
       "      <td>0</td>\n",
       "      <td>0</td>\n",
       "      <td>0</td>\n",
       "      <td>0</td>\n",
       "      <td>0</td>\n",
       "      <td>0</td>\n",
       "      <td>...</td>\n",
       "      <td>0</td>\n",
       "      <td>0</td>\n",
       "      <td>0</td>\n",
       "      <td>0</td>\n",
       "      <td>0</td>\n",
       "      <td>0</td>\n",
       "      <td>0</td>\n",
       "      <td>0</td>\n",
       "      <td>0</td>\n",
       "      <td>0</td>\n",
       "    </tr>\n",
       "    <tr>\n",
       "      <th>2</th>\n",
       "      <td>0</td>\n",
       "      <td>0</td>\n",
       "      <td>0</td>\n",
       "      <td>0</td>\n",
       "      <td>0</td>\n",
       "      <td>0</td>\n",
       "      <td>0</td>\n",
       "      <td>0</td>\n",
       "      <td>0</td>\n",
       "      <td>0</td>\n",
       "      <td>...</td>\n",
       "      <td>0</td>\n",
       "      <td>0</td>\n",
       "      <td>0</td>\n",
       "      <td>0</td>\n",
       "      <td>0</td>\n",
       "      <td>0</td>\n",
       "      <td>0</td>\n",
       "      <td>0</td>\n",
       "      <td>0</td>\n",
       "      <td>0</td>\n",
       "    </tr>\n",
       "  </tbody>\n",
       "</table>\n",
       "<p>3 rows × 784 columns</p>\n",
       "</div>"
      ],
      "text/plain": [
       "   pixel0  pixel1  pixel2  pixel3  pixel4  pixel5  pixel6  pixel7  pixel8  \\\n",
       "0       0       0       0       0       0       0       0       0       0   \n",
       "1       0       0       0       0       0       0       0       0       0   \n",
       "2       0       0       0       0       0       0       0       0       0   \n",
       "\n",
       "   pixel9  ...  pixel774  pixel775  pixel776  pixel777  pixel778  pixel779  \\\n",
       "0       0  ...         0         0         0         0         0         0   \n",
       "1       0  ...         0         0         0         0         0         0   \n",
       "2       0  ...         0         0         0         0         0         0   \n",
       "\n",
       "   pixel780  pixel781  pixel782  pixel783  \n",
       "0         0         0         0         0  \n",
       "1         0         0         0         0  \n",
       "2         0         0         0         0  \n",
       "\n",
       "[3 rows x 784 columns]"
      ]
     },
     "execution_count": 4,
     "metadata": {},
     "output_type": "execute_result"
    }
   ],
   "source": [
    "df_train.head(3)"
   ]
  },
  {
   "cell_type": "code",
   "execution_count": 5,
   "metadata": {
    "colab": {
     "base_uri": "https://localhost:8080/",
     "height": 642
    },
    "executionInfo": {
     "elapsed": 4317,
     "status": "ok",
     "timestamp": 1707023765375,
     "user": {
      "displayName": "양승빈",
      "userId": "11252416077483933428"
     },
     "user_tz": -540
    },
    "id": "zPuMaUnZhHPk",
    "outputId": "8098673d-8820-4589-8079-9e83153e63fd"
   },
   "outputs": [
    {
     "data": {
      "text/plain": [
       "<Figure size 640x480 with 0 Axes>"
      ]
     },
     "metadata": {},
     "output_type": "display_data"
    },
    {
     "data": {
      "image/png": "[encoded data removed]",
      "text/plain": [
       "<Figure size 1600x700 with 15 Axes>"
      ]
     },
     "metadata": {},
     "output_type": "display_data"
    }
   ],
   "source": [
    "# 데이터 형태 시각화\n",
    "\n",
    "import matplotlib.pyplot as plt\n",
    "\n",
    "rndperm = np.random.permutation(df_train.shape[0]) # df_train.shape[0] (=정수) 의 범위 내에서 무작위로 셔플한 것과 동일함\n",
    "\n",
    "# Plot the graph\n",
    "plt.gray()\n",
    "fig = plt.figure( figsize=(16,7) )\n",
    "for i in range(0,15):\n",
    "    ax = fig.add_subplot(3,5,i+1)\n",
    "    ax.matshow(df_train.loc[rndperm[i], feat_cols].values.reshape((28,28)).astype(float))\n",
    "plt.show()"
   ]
  },
  {
   "cell_type": "code",
   "execution_count": 6,
   "metadata": {
    "colab": {
     "base_uri": "https://localhost:8080/"
    },
    "executionInfo": {
     "elapsed": 4,
     "status": "ok",
     "timestamp": 1707024053277,
     "user": {
      "displayName": "양승빈",
      "userId": "11252416077483933428"
     },
     "user_tz": -540
    },
    "id": "XFweN1usjHqJ",
    "outputId": "00fca7c1-42d7-43c3-8181-7399d94a0678"
   },
   "outputs": [
    {
     "data": {
      "text/plain": [
       "((60000, 784), (60000,), (10000, 784), (10000,))"
      ]
     },
     "execution_count": 6,
     "metadata": {},
     "output_type": "execute_result"
    }
   ],
   "source": [
    "# 학습 데이터 준비\n",
    "\n",
    "import numpy as np\n",
    "\n",
    "X_train = train_data.data.reshape(60000,-1).numpy()\n",
    "y_train = train_data.targets.numpy()\n",
    "\n",
    "X_test = test_data.data.reshape(10000,-1).numpy()\n",
    "y_test = test_data.targets.numpy()\n",
    "\n",
    "X_train.shape, y_train.shape, X_test.shape, y_test.shape"
   ]
  },
  {
   "cell_type": "markdown",
   "metadata": {},
   "source": [
    "- 표준화"
   ]
  },
  {
   "cell_type": "code",
   "execution_count": 7,
   "metadata": {},
   "outputs": [],
   "source": [
    "# 표준화\n",
    "from sklearn.preprocessing import StandardScaler\n",
    "\n",
    "sc = StandardScaler()\n",
    "X_train = sc.fit_transform(X_train)\n",
    "X_test = sc.transform(X_test)"
   ]
  },
  {
   "cell_type": "code",
   "execution_count": 8,
   "metadata": {
    "id": "4qJi5b5ujzib"
   },
   "outputs": [
    {
     "name": "stdout",
     "output_type": "stream",
     "text": [
      "Fit time :  0.12328171730041504\n"
     ]
    }
   ],
   "source": [
    "# KNN 학습 - Baseline\n",
    "\n",
    "from sklearn.neighbors import KNeighborsClassifier\n",
    "import time\n",
    "\n",
    "start_time = time.time()\n",
    "clf = KNeighborsClassifier(n_neighbors= 5)\n",
    "clf.fit(X_train, y_train)\n",
    "print('Fit time : ', time.time() - start_time)"
   ]
  },
  {
   "cell_type": "code",
   "execution_count": 9,
   "metadata": {
    "id": "WsYttWn2j4Pa"
   },
   "outputs": [
    {
     "name": "stdout",
     "output_type": "stream",
     "text": [
      "Fit time :  38.320809841156006\n",
      "0.9443\n"
     ]
    }
   ],
   "source": [
    "from sklearn.metrics import accuracy_score\n",
    "\n",
    "start_time = time.time()\n",
    "pred = clf.predict(X_test)\n",
    "print('Fit time : ', time.time() - start_time)\n",
    "print(accuracy_score(y_test, pred))"
   ]
  },
  {
   "cell_type": "markdown",
   "metadata": {
    "id": "PfjAz2k-eR9u"
   },
   "source": [
    "## 2. PCA & LDA 적용하기"
   ]
  },
  {
   "cell_type": "code",
   "execution_count": 10,
   "metadata": {},
   "outputs": [],
   "source": [
    "# PCA - 누적 기여율 \n",
    "from sklearn.decomposition import PCA\n",
    "\n",
    "pca = PCA()\n",
    "X_train_pca = pca.fit_transform(X_train)\n",
    "cum_explained_var_ratio= np.cumsum(pca.explained_variance_ratio_)"
   ]
  },
  {
   "cell_type": "code",
   "execution_count": 38,
   "metadata": {},
   "outputs": [
    {
     "data": {
      "image/png": "[encoded data removed]",
      "text/plain": [
       "<Figure size 1000x800 with 1 Axes>"
      ]
     },
     "metadata": {},
     "output_type": "display_data"
    }
   ],
   "source": [
    "# 누적 기여율 그래프\n",
    "plt.figure(figsize=(10, 8))\n",
    "plt.plot(cum_explained_var_ratio, linestyle='-')\n",
    "plt.xlabel('Number of Components')\n",
    "plt.ylabel('Cumulative Explained Variance')\n",
    "plt.grid(True)\n",
    "\n",
    "plt.show()"
   ]
  },
  {
   "cell_type": "code",
   "execution_count": 12,
   "metadata": {},
   "outputs": [
    {
     "name": "stdout",
     "output_type": "stream",
     "text": [
      "pixel149\n"
     ]
    },
    {
     "data": {
      "text/html": [
       "<div>\n",
       "<style scoped>\n",
       "    .dataframe tbody tr th:only-of-type {\n",
       "        vertical-align: middle;\n",
       "    }\n",
       "\n",
       "    .dataframe tbody tr th {\n",
       "        vertical-align: top;\n",
       "    }\n",
       "\n",
       "    .dataframe thead th {\n",
       "        text-align: right;\n",
       "    }\n",
       "</style>\n",
       "<table border=\"1\" class=\"dataframe\">\n",
       "  <thead>\n",
       "    <tr style=\"text-align: right;\">\n",
       "      <th></th>\n",
       "      <th>explained_variance</th>\n",
       "      <th>explained_variance_ratio</th>\n",
       "      <th>cumulative_explained_variance_ratio</th>\n",
       "    </tr>\n",
       "  </thead>\n",
       "  <tbody>\n",
       "    <tr>\n",
       "      <th>pixel1</th>\n",
       "      <td>40.487635</td>\n",
       "      <td>0.056467</td>\n",
       "      <td>0.056467</td>\n",
       "    </tr>\n",
       "    <tr>\n",
       "      <th>pixel2</th>\n",
       "      <td>29.241698</td>\n",
       "      <td>0.040783</td>\n",
       "      <td>0.097250</td>\n",
       "    </tr>\n",
       "    <tr>\n",
       "      <th>pixel3</th>\n",
       "      <td>26.811804</td>\n",
       "      <td>0.037394</td>\n",
       "      <td>0.134644</td>\n",
       "    </tr>\n",
       "    <tr>\n",
       "      <th>pixel4</th>\n",
       "      <td>20.686618</td>\n",
       "      <td>0.028851</td>\n",
       "      <td>0.163495</td>\n",
       "    </tr>\n",
       "    <tr>\n",
       "      <th>pixel5</th>\n",
       "      <td>18.076650</td>\n",
       "      <td>0.025211</td>\n",
       "      <td>0.188706</td>\n",
       "    </tr>\n",
       "  </tbody>\n",
       "</table>\n",
       "</div>"
      ],
      "text/plain": [
       "        explained_variance  explained_variance_ratio  \\\n",
       "pixel1           40.487635                  0.056467   \n",
       "pixel2           29.241698                  0.040783   \n",
       "pixel3           26.811804                  0.037394   \n",
       "pixel4           20.686618                  0.028851   \n",
       "pixel5           18.076650                  0.025211   \n",
       "\n",
       "        cumulative_explained_variance_ratio  \n",
       "pixel1                             0.056467  \n",
       "pixel2                             0.097250  \n",
       "pixel3                             0.134644  \n",
       "pixel4                             0.163495  \n",
       "pixel5                             0.188706  "
      ]
     },
     "execution_count": 12,
     "metadata": {},
     "output_type": "execute_result"
    }
   ],
   "source": [
    "pca_result = pd.DataFrame({'explained_variance' : pca.explained_variance_, \n",
    "                           'explained_variance_ratio' : pca.explained_variance_ratio_,},\n",
    "                         index = np.array([f\"pixel{num+1}\" for num in range(X_train.shape[1])]))\n",
    "pca_result['cumulative_explained_variance_ratio'] = pca_result['explained_variance_ratio'].cumsum()\n",
    "\n",
    "print(pca_result[pca_result['cumulative_explained_variance_ratio'] >= 0.8].index[0])\n",
    "pca_result.head()"
   ]
  },
  {
   "cell_type": "code",
   "execution_count": 13,
   "metadata": {
    "id": "EgkeNa1xeUBP"
   },
   "outputs": [
    {
     "data": {
      "text/plain": [
       "KNeighborsClassifier()"
      ]
     },
     "execution_count": 13,
     "metadata": {},
     "output_type": "execute_result"
    }
   ],
   "source": [
    "# PCA 적용\n",
    "from sklearn.decomposition import PCA\n",
    "from sklearn.pipeline import Pipeline\n",
    "\n",
    "pca = PCA(n_components = 149)\n",
    "\n",
    "X_train_pca = pca.fit_transform(X_train)\n",
    "X_test_pca = pca.transform(X_test)\n",
    "\n",
    "clf_pca = KNeighborsClassifier(n_neighbors= 5)\n",
    "clf_pca.fit(X_train_pca, y_train)"
   ]
  },
  {
   "cell_type": "code",
   "execution_count": 14,
   "metadata": {
    "executionInfo": {
     "elapsed": 3,
     "status": "ok",
     "timestamp": 1707024292877,
     "user": {
      "displayName": "양승빈",
      "userId": "11252416077483933428"
     },
     "user_tz": -540
    },
    "id": "u-cc1HdgkSYU"
   },
   "outputs": [],
   "source": [
    "# LDA - 누적 기여율\n",
    "from sklearn.discriminant_analysis import LinearDiscriminantAnalysis\n",
    "\n",
    "lda = LinearDiscriminantAnalysis()\n",
    "X_train_lda = lda.fit_transform(X_train, y_train)"
   ]
  },
  {
   "cell_type": "code",
   "execution_count": 15,
   "metadata": {
    "id": "jb6rGdFEk7Zy"
   },
   "outputs": [
    {
     "data": {
      "text/plain": [
       "(60000, 9)"
      ]
     },
     "execution_count": 15,
     "metadata": {},
     "output_type": "execute_result"
    }
   ],
   "source": [
    "X_train_lda.shape"
   ]
  },
  {
   "cell_type": "code",
   "execution_count": 16,
   "metadata": {
    "id": "ITOrR-lolArH"
   },
   "outputs": [
    {
     "data": {
      "text/plain": [
       "array([0.2392286 , 0.20180995, 0.17849695, 0.10652571, 0.09406712,\n",
       "       0.06906025, 0.04973746, 0.03429077, 0.0267832 ])"
      ]
     },
     "execution_count": 16,
     "metadata": {},
     "output_type": "execute_result"
    }
   ],
   "source": [
    "lda.explained_variance_ratio_"
   ]
  },
  {
   "cell_type": "code",
   "execution_count": 17,
   "metadata": {},
   "outputs": [
    {
     "name": "stdout",
     "output_type": "stream",
     "text": [
      "pixel5\n"
     ]
    },
    {
     "data": {
      "text/html": [
       "<div>\n",
       "<style scoped>\n",
       "    .dataframe tbody tr th:only-of-type {\n",
       "        vertical-align: middle;\n",
       "    }\n",
       "\n",
       "    .dataframe tbody tr th {\n",
       "        vertical-align: top;\n",
       "    }\n",
       "\n",
       "    .dataframe thead th {\n",
       "        text-align: right;\n",
       "    }\n",
       "</style>\n",
       "<table border=\"1\" class=\"dataframe\">\n",
       "  <thead>\n",
       "    <tr style=\"text-align: right;\">\n",
       "      <th></th>\n",
       "      <th>explained_variance_ratio</th>\n",
       "      <th>cumulative_explained_variance_ratio</th>\n",
       "    </tr>\n",
       "  </thead>\n",
       "  <tbody>\n",
       "    <tr>\n",
       "      <th>pixel1</th>\n",
       "      <td>0.239229</td>\n",
       "      <td>0.239229</td>\n",
       "    </tr>\n",
       "    <tr>\n",
       "      <th>pixel2</th>\n",
       "      <td>0.201810</td>\n",
       "      <td>0.441039</td>\n",
       "    </tr>\n",
       "    <tr>\n",
       "      <th>pixel3</th>\n",
       "      <td>0.178497</td>\n",
       "      <td>0.619535</td>\n",
       "    </tr>\n",
       "    <tr>\n",
       "      <th>pixel4</th>\n",
       "      <td>0.106526</td>\n",
       "      <td>0.726061</td>\n",
       "    </tr>\n",
       "    <tr>\n",
       "      <th>pixel5</th>\n",
       "      <td>0.094067</td>\n",
       "      <td>0.820128</td>\n",
       "    </tr>\n",
       "    <tr>\n",
       "      <th>pixel6</th>\n",
       "      <td>0.069060</td>\n",
       "      <td>0.889189</td>\n",
       "    </tr>\n",
       "    <tr>\n",
       "      <th>pixel7</th>\n",
       "      <td>0.049737</td>\n",
       "      <td>0.938926</td>\n",
       "    </tr>\n",
       "    <tr>\n",
       "      <th>pixel8</th>\n",
       "      <td>0.034291</td>\n",
       "      <td>0.973217</td>\n",
       "    </tr>\n",
       "    <tr>\n",
       "      <th>pixel9</th>\n",
       "      <td>0.026783</td>\n",
       "      <td>1.000000</td>\n",
       "    </tr>\n",
       "  </tbody>\n",
       "</table>\n",
       "</div>"
      ],
      "text/plain": [
       "        explained_variance_ratio  cumulative_explained_variance_ratio\n",
       "pixel1                  0.239229                             0.239229\n",
       "pixel2                  0.201810                             0.441039\n",
       "pixel3                  0.178497                             0.619535\n",
       "pixel4                  0.106526                             0.726061\n",
       "pixel5                  0.094067                             0.820128\n",
       "pixel6                  0.069060                             0.889189\n",
       "pixel7                  0.049737                             0.938926\n",
       "pixel8                  0.034291                             0.973217\n",
       "pixel9                  0.026783                             1.000000"
      ]
     },
     "execution_count": 17,
     "metadata": {},
     "output_type": "execute_result"
    }
   ],
   "source": [
    "# 누적 기여율\n",
    "lda_result = pd.DataFrame({'explained_variance_ratio' : lda.explained_variance_ratio_,},\n",
    "                         index = np.array([f\"pixel{num+1}\" for num in range(X_train_lda.shape[1])]))\n",
    "lda_result['cumulative_explained_variance_ratio'] = lda_result['explained_variance_ratio'].cumsum()\n",
    "\n",
    "print(lda_result[lda_result['cumulative_explained_variance_ratio'] >= 0.8].index[0])\n",
    "lda_result"
   ]
  },
  {
   "cell_type": "code",
   "execution_count": 18,
   "metadata": {},
   "outputs": [
    {
     "data": {
      "text/plain": [
       "KNeighborsClassifier()"
      ]
     },
     "execution_count": 18,
     "metadata": {},
     "output_type": "execute_result"
    }
   ],
   "source": [
    "lda = LinearDiscriminantAnalysis(n_components=5)\n",
    "X_train_lda = lda.fit_transform(X_train, y_train)"
   ]
  },
  {
   "cell_type": "markdown",
   "metadata": {
    "id": "1P7IPXYykKGD"
   },
   "source": [
    "## 3. 결과 비교하기"
   ]
  },
  {
   "cell_type": "code",
   "execution_count": 19,
   "metadata": {
    "id": "A4bwETsikL3a"
   },
   "outputs": [
    {
     "name": "stdout",
     "output_type": "stream",
     "text": [
      "Fit time :  24.675546884536743\n",
      "accuracy_score: 0.9559\n"
     ]
    }
   ],
   "source": [
    "# PCA 결과\n",
    "start_time = time.time()\n",
    "pred = clf_pca.predict(X_test_pca)\n",
    "print('Fit time : ', time.time() - start_time)\n",
    "print('accuracy_score:',accuracy_score(y_test, pred))"
   ]
  },
  {
   "cell_type": "code",
   "execution_count": 20,
   "metadata": {
    "id": "RQ7d2EjglK0H"
   },
   "outputs": [
    {
     "name": "stdout",
     "output_type": "stream",
     "text": [
      "Fit time :  0.07088899612426758\n",
      "0.873\n"
     ]
    }
   ],
   "source": [
    "# LDA 결과\n",
    "start_time = time.time()\n",
    "y_pred = lda.predict(X_test)\n",
    "print('Fit time : ', time.time() - start_time)\n",
    "print(accuracy_score(y_test, y_pred))"
   ]
  },
  {
   "cell_type": "markdown",
   "metadata": {
    "id": "E5D13wICeUbB"
   },
   "source": [
    "## 4. PCA & LDA 장단점 정리하기\n",
    "\n",
    "#### 장단점을 자유롭게 적어주세요!"
   ]
  },
  {
   "cell_type": "markdown",
   "metadata": {
    "id": "WgYs9gSHeXl4"
   },
   "source": [
    "- PCA\n",
    "  - 장점: \n",
    "      - 데이터 간 분산이 큰 경우 좋은 성능을 보인다. 분산을 최대화하는 방향으로 주성분을 찾아내기 때문에 데이터의 손실을 최소화하고 계산 효율성을 높인다.\n",
    "      - 비지도 학습 방법으로, 정답 레이블 정보가 필요하지 않다.      \n",
    "  - 단점: \n",
    "      - 변환된 각각의 주성분을 직관적으로 해석하기 어렵다\n",
    "      - 선형 변환을 기반으로 하기 때문에 변수들이 비선형 관계를 가질 때 적용하기 어렵다\n",
    "\n",
    "- LDA\n",
    "  - 장점: \n",
    "      - 클래스 간의 분산을 크게, 클래스 내의 분산을 작게하여 분류 작업에서 유용하다.\n",
    "      - 설명변수간의 공분산 구조를 반영하며, 이 가정이 위반되더라도 비교적 robust하다. \n",
    "  - 단점: \n",
    "      - 가우시안 분포를 가정하므로 데이터가 정규분포를 따라야 한다. 만약 정규분포 가정에 위배될 경우, 설명력이 떨어진다. \n",
    "      - 지도 학습이기 때문에 정답 레이블이 존재해야 한다"
   ]
  }
 ],
 "metadata": {
  "colab": {
   "authorship_tag": "ABX9TyPOgetValPQuvMv1AtdjWKE",
   "provenance": []
  },
  "kernelspec": {
   "display_name": "Python 3 (ipykernel)",
   "language": "python",
   "name": "python3"
  },
  "language_info": {
   "codemirror_mode": {
    "name": "ipython",
    "version": 3
   },
   "file_extension": ".py",
   "mimetype": "text/x-python",
   "name": "python",
   "nbconvert_exporter": "python",
   "pygments_lexer": "ipython3",
   "version": "3.9.13"
  }
 },
 "nbformat": 4,
 "nbformat_minor": 1
}

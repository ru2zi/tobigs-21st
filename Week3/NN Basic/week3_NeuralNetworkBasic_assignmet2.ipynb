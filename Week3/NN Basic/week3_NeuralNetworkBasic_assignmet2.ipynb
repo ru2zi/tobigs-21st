{
 "cells": [
  {
   "cell_type": "markdown",
   "source": [
    "# 3주차 Neural Network 과제는 인공신경망을 논리게이트부터 차례대로 쌓아올려 직접 짜보는 것입니다.\n",
    "# 중간 중간 남겨진 주석을 따라 코드를 완성시켜 주세요"
   ],
   "metadata": {
    "collapsed": false
   }
  },
  {
   "cell_type": "markdown",
   "source": [
    "## 논리 게이트 구현"
   ],
   "metadata": {
    "collapsed": false
   }
  },
  {
   "cell_type": "code",
   "execution_count": null,
   "metadata": {
    "collapsed": true
   },
   "outputs": [],
   "source": [
    "## AND gate 구현해주세요\n",
    "# w1, w2 => 가중치(weight)를 의미하는 변수\n",
    "# theta : threshold\n",
    "\n",
    "def AND(x1, x2):\n",
    "\n",
    "\n",
    "\n",
    "def NAND(x1, x2):\n",
    "\n",
    "\n",
    "\n",
    "def OR(x1, x2):\n",
    "\n",
    "\n",
    "# 위 논리 게이트를 조합하여 XOR gate 구현해주세요\n"
   ]
  },
  {
   "cell_type": "markdown",
   "source": [
    "## 활성함수 구현"
   ],
   "metadata": {
    "collapsed": false
   }
  },
  {
   "cell_type": "code",
   "execution_count": null,
   "outputs": [],
   "source": [
    "import numpy as np\n",
    "import matplotlib.pyplot as plt\n",
    "import math\n",
    "\n",
    "# 입력할 샘플 데이터를 만들고 확인합니다.\n",
    "x = np.array([-1, 1, 2])\n",
    "print(\"input : \", x)\n",
    "\n",
    "# 입력 값이 임계값(0)을 넘기는지 판단합니다.\n",
    "y = x>0\n",
    "print(\"Logic : \", y)\n",
    "\n",
    "# 논리(boolean)형태를 정수형으로 바꾸어 0과 1로 나타냅니다.\n",
    "y = y.astype(np.int)\n",
    "print(\"Boolean : \", y)"
   ],
   "metadata": {
    "collapsed": false
   }
  },
  {
   "cell_type": "code",
   "execution_count": null,
   "outputs": [],
   "source": [
    "# STEP 함수 구현\n",
    "def step_function(x):\n",
    "\n",
    "\n",
    "# 함수가 제대로 만들어 졌는지 값을 출력해봅니다.\n",
    "print(step_function(-1))\t# 0\n",
    "print(step_function(0.5))\t# 1\n",
    "print(step_function(500000))\t# 1"
   ],
   "metadata": {
    "collapsed": false
   }
  },
  {
   "cell_type": "code",
   "execution_count": null,
   "outputs": [],
   "source": [
    "# 구현한 계단 함수의 값을 바탕으로 그래프를 그려봅시다.\n",
    "x = np.linspace(-1, 1, 100)\n",
    "plt.step(x, step_function(x))\n",
    "plt.show()"
   ],
   "metadata": {
    "collapsed": false
   }
  },
  {
   "cell_type": "code",
   "execution_count": null,
   "outputs": [],
   "source": [
    "# Sigmoid 함수 구현\n",
    "def sigmoid(x):\n",
    "\n",
    "\n",
    "\n",
    "x = np.array([-5, -1, 0, 0.1, 5, 500000])\n",
    "print(sigmoid(x))\n",
    "\n",
    "x = np.linspace(-10, 10, 100)\n",
    "\n",
    "plt.plot(x, sigmoid(x))\n",
    "plt.xlabel(\"x\")\n",
    "plt.ylabel(\"Sigmoid(X)\")\n",
    "\n",
    "plt.show()"
   ],
   "metadata": {
    "collapsed": false
   }
  },
  {
   "cell_type": "code",
   "execution_count": null,
   "outputs": [],
   "source": [
    "# ReLU 함수 구현\n",
    "def ReLU(x):\n",
    "\n",
    "\n",
    "x = np.arange(-3, 3, .1)\n",
    "y = ReLU(x)\n",
    "\n",
    "fig = plt.figure()\n",
    "ax = fig.add_subplot(111)\n",
    "ax.plot(x, y)\n",
    "ax.set_ylim([-1.0, 3.0])\n",
    "ax.set_xlim([-3.0, 3.0])\n",
    "#ax.grid(True)\n",
    "ax.set_xlabel('z')\n",
    "ax.set_title('ReLU: Rectified linear unit')\n",
    "\n",
    "plt.show()\n",
    "fig = plt.gcf()"
   ],
   "metadata": {
    "collapsed": false
   }
  },
  {
   "cell_type": "markdown",
   "source": [
    "## 신경망 구현"
   ],
   "metadata": {
    "collapsed": false
   }
  },
  {
   "cell_type": "code",
   "execution_count": null,
   "outputs": [],
   "source": [
    "def init_network():\n",
    "    \"\"\"\n",
    "    W1,W2 : 가중치\n",
    "    B1,B2 : 편향\n",
    "    값은 일단 마음대로 지정한 값이니 신경쓰지 않으셔도 됩니다.\n",
    "    \"\"\"\n",
    "    network = {}\n",
    "    network['W1'] = np.array([[0.1, 0.3, 0.5, 0.7], [0.1, 0.3, 0.3, 0.7], [0.2, 0.1, 0.6, 0.8]]) # 3 x 4\n",
    "    network['B1'] = np.array([0.11, 0.12, 0.13, 0.14]) # 4개\n",
    "    network['W2'] = np.array([[0.1, 0.5], [0.2, 0.6], [0.3, 0.4], [0.35, 0.35]]) # 4 x 2\n",
    "    network['B2'] = np.array([0.1, 0.5]) # 2개\n",
    "\n",
    "    return network"
   ],
   "metadata": {
    "collapsed": false
   }
  },
  {
   "cell_type": "code",
   "execution_count": null,
   "outputs": [],
   "source": [
    "# 순전파 함수 정의\n",
    "def forward(network, x):\n",
    "  W1, W2 = network['W1'], network['W2']\n",
    "  b1, b2 = network['B1'], network['B2']\n",
    "\n",
    " # 아래 빈칸 채워주세요\n",
    "  a1 =\n",
    "  z1 =\n",
    "  a2 =\n",
    "\n",
    "  y = a2\n",
    "  return y"
   ],
   "metadata": {
    "collapsed": false
   }
  },
  {
   "cell_type": "code",
   "execution_count": null,
   "outputs": [],
   "source": [
    "# 네트워크 제작\n",
    "network = init_network()\n",
    "\n",
    "# 샘플 입력 데이터\n",
    "x = np.array([1, 0.5, 0.7])\n",
    "\n",
    "# 순전파 실행\n",
    "y = forward(network, x)\n",
    "print(y)"
   ],
   "metadata": {
    "collapsed": false
   }
  },
  {
   "cell_type": "markdown",
   "source": [
    "## 직접 신경망 만들어보기"
   ],
   "metadata": {
    "collapsed": false
   }
  },
  {
   "cell_type": "code",
   "execution_count": null,
   "outputs": [],
   "source": [
    "# 랜덤 시드(Random Seed)를 고정합니다.\n",
    "np.random.seed(405)\n",
    "\n",
    "# X: 입력(inputs)\n",
    "X = np.array([\n",
    "    [0, 0]\n",
    "    ,[0, 1]\n",
    "    ,[1, 0]\n",
    "    ,[1, 1]\n",
    "])\n",
    "\n",
    "# 편향(bias)\n",
    "b = 1\n",
    "\n",
    "# Y: 타겟값(target, correct outputs)\n",
    "Y= np.array([[0],[1],[1],[1]])"
   ],
   "metadata": {
    "collapsed": false
   }
  },
  {
   "cell_type": "code",
   "execution_count": null,
   "outputs": [],
   "source": [
    "# 시그모이드 함수\n",
    "# net: 입력과 가중치의 가중합\n",
    "def sigmoid(net):\n",
    "#위에서 구현한 코드 그대로\n",
    "\n",
    "\n",
    "# 시그모이드 함수의 도함수 구현\n",
    "# https://towardsdatascience.com/derivative-of-the-sigmoid-function-536880cf918e\n",
    "def sigmoid_prime(net):\n",
    "    sig = sigmoid(net)\n",
    "    return     ##여기에 도함수 구현"
   ],
   "metadata": {
    "collapsed": false
   }
  },
  {
   "cell_type": "code",
   "execution_count": null,
   "outputs": [],
   "source": [
    "# 시그모이드 함수가 잘 생성되었는지 그래프를 출력해봅시다.\n",
    "x_range = np.arange(-10., 10., 0.2)\n",
    "y_range = np.array([sigmoid(x) for x in x_range])\n",
    "y_prime = np.array([sigmoid_prime(x) for x in x_range])\n",
    "\n",
    "plt.plot(x_range, y_range, label='sigmoid')\n",
    "plt.plot(x_range, y_prime, label='sigmoid_prime')\n",
    "plt.legend()\n",
    "plt.show();"
   ],
   "metadata": {
    "collapsed": false
   }
  },
  {
   "cell_type": "code",
   "execution_count": null,
   "outputs": [],
   "source": [
    "# 초기 가중치\n",
    "W = [0.40316676, -0.44345216]\n",
    "\n",
    "# 입력 데이터와 가중치 연산\n",
    "Z =                    #Feedforward 연산 참고하여 코드 작성\n",
    "\n",
    "\"\"\"\n",
    "array([[1.        ],\n",
    "       [0.55654784],\n",
    "       [1.40316676],\n",
    "       [0.9597146 ]])\n",
    "\"\"\""
   ],
   "metadata": {
    "collapsed": false
   }
  },
  {
   "cell_type": "code",
   "execution_count": null,
   "outputs": [],
   "source": [
    "# A: 출력(activated outputs)\n",
    "A = sigmoid(Z)\n",
    "A\n",
    "\n",
    "\"\"\"\n",
    "array([[0.73105858],\n",
    "       [0.6356534 ],\n",
    "       [0.80268592],\n",
    "       [0.72306466]])\n",
    "\"\"\""
   ],
   "metadata": {
    "collapsed": false
   }
  },
  {
   "cell_type": "markdown",
   "source": [
    "## 미분한 값을 코드로 구현\n",
    "=> 출력 오차를 줄이기 위한 역전파(경사하강법 이용)\n",
    "\n",
    "경사 하강법(Gradient descent) : 손실 값이 최소가 되는 가중치(weight)를 찾는 방법\n",
    "역전파 알고리즘 : 경사 하강법에 필요한 미분값을 빠르고 효율적으로 찾는 알고리즘\n",
    "\n",
    "da = ∂E/∂A (MSE를 미분하여 나오는 값)\n",
    "dz = ∂E/∂z\n",
    "dw, db = 각각 가중치(weight), 편향(bias) 업데이트 값"
   ],
   "metadata": {
    "collapsed": false
   }
  },
  {
   "cell_type": "code",
   "execution_count": null,
   "outputs": [],
   "source": [
    "def backpropagation(Y, A, Z):\n",
    "    da =\n",
    "    dz =\n",
    "    dw =\n",
    "    db =\n",
    "    print(\"dz : \\n\", dz, \"\\n\")\n",
    "    print(\"dw : \\n\", dw, \"\\n\")\n",
    "    print(\"db : \\n\", db, \"\\n\")\n",
    "    return dw,db\n",
    "\n",
    "\"\"\"\n",
    "dz :\n",
    " [[ 0.14373484]\n",
    " [-0.084382  ]\n",
    " [-0.03125085]\n",
    " [-0.05545413]]\n",
    "\n",
    "dw :\n",
    " [[-0.08670498]\n",
    " [-0.13983613]]\n",
    "\n",
    "db :\n",
    " [[-0.10753744]]\n",
    "\"\"\""
   ],
   "metadata": {
    "collapsed": false,
    "pycharm": {
     "is_executing": true
    }
   }
  },
  {
   "cell_type": "code",
   "execution_count": null,
   "outputs": [],
   "source": [
    "print(\"기존 가중치: \\n\", W, \"\\n\")\n",
    "\"\"\"\n",
    "기존 가중치:\n",
    " [[ 0.40316676]\n",
    " [-0.44345216]]\n",
    "\"\"\""
   ],
   "metadata": {
    "collapsed": false
   }
  },
  {
   "cell_type": "code",
   "execution_count": null,
   "outputs": [],
   "source": [
    "# 가중치 업데이트(batch)\n",
    "\n",
    "W += dw\n",
    "b += db\n",
    "\n",
    "print(\"업데이트 후 가중치: \\n\", W, \"\\n\")\n",
    "print(\"업데이트 후 bias: \\n\", b, \"\\n\")\n",
    "\n",
    "\"\"\"\n",
    "업데이트 후 가중치:\n",
    " [[ 0.31646178]\n",
    " [-0.58328829]]\n",
    "\n",
    "업데이트 후 bias:\n",
    " [[0.89246256]]\n",
    "\"\"\""
   ],
   "metadata": {
    "collapsed": false
   }
  },
  {
   "cell_type": "code",
   "execution_count": null,
   "outputs": [],
   "source": [
    "## 최적 가중치 찾기\n",
    "# 이미 입력 데이터와 타겟 출력은 윗 부분에서 선언함\n",
    "\n",
    "# 가중치 초기화\n",
    "# 아래 각주 코드 하나씩 실행하여 결과값 달라지는 확인해보시기 바랍니다\n",
    "\n",
    "# W = 2 * np.random.random((2,1)) - 1\n",
    "W =  [-0.79003947, 0.6826574 ]\n",
    "# W = np.zeros((2,1))\n",
    "\n",
    "b = 0\n",
    "\n",
    "print('학습 전 가중치: \\n', W)\n",
    "\n",
    "# 가중치 업데이트 10,000회 (10,000 epoch)\n",
    "\n",
    "for iteration in range(1000):\n",
    "\n",
    "    # 순방향 전파\n",
    "    Z =\n",
    "    A = sigmoid(Z)\n",
    "\n",
    "    # 역방향 전파(기울기 계산)\n",
    "    backpropagation(Y, A, Z)\n",
    "\n",
    "    W += dw\n",
    "    b += db\n",
    "\n",
    "print('학습 후 가중치: \\n', W, \"\\n\")\n",
    "print('학습 후 bias: \\n', b, \"\\n\")\n",
    "print('학습 후 예측값: \\n', A.round(3), \"\\n\")\n",
    "\n",
    "\"\"\"\n",
    "학습 후 가중치:\n",
    " [[5.92060487]\n",
    " [5.92082351]]\n",
    "\n",
    "학습 후 bias:\n",
    " [[-2.59025899]]\n",
    "\n",
    "학습 후 예측값:\n",
    " [[0.07 ]\n",
    " [0.965]\n",
    " [0.965]\n",
    " [1.   ]]\n",
    "\"\"\""
   ],
   "metadata": {
    "collapsed": false
   }
  },
  {
   "cell_type": "markdown",
   "source": [
    "## IRIS DATA PERCEPTRON 학습예제"
   ],
   "metadata": {
    "collapsed": false
   }
  },
  {
   "cell_type": "code",
   "execution_count": null,
   "outputs": [],
   "source": [
    "### 1. 필요한 패키지를 import 하고 Iris 데이터셋 불러오기\n",
    "import pandas as pd\n",
    "import numpy as np\n",
    "import matplotlib.pyplot as plt\n",
    "\n",
    "# iris 데이터를 DataFrame 형태로 불러옵니다.\n",
    "df = pd.read_csv('https://archive.ics.uci.edu/ml/machine-learning-databases/iris/iris.data', eader=None)"
   ],
   "metadata": {
    "collapsed": false
   }
  },
  {
   "cell_type": "markdown",
   "source": [
    "### 아래 제공된 전처리 코드를 참고하여 자신만의 전처리 코드를 작성해봅니다."
   ],
   "metadata": {
    "collapsed": false
   }
  },
  {
   "cell_type": "code",
   "execution_count": null,
   "outputs": [],
   "source": [
    "\n",
    "### 2. 데이터 전처리(Preprocessing) 및 시각화(Visualization)\n",
    "# 50 setosa, 50 versicolor 데이터만 사용하여 이진 분류(Binary Classification) 문제를 풀어보겠습니다.\n",
    "\n",
    "y = df.iloc[0:100, 4].values\n",
    "y\n",
    "\"\"\"\n",
    "array(['Iris-setosa', 'Iris-setosa', 'Iris-setosa', 'Iris-setosa',\n",
    "       'Iris-setosa', 'Iris-setosa', 'Iris-setosa', 'Iris-setosa',\n",
    "       'Iris-setosa', 'Iris-setosa', 'Iris-setosa', 'Iris-setosa',\n",
    "       'Iris-setosa', 'Iris-setosa', 'Iris-setosa', 'Iris-setosa',\n",
    "       'Iris-setosa', 'Iris-setosa', 'Iris-setosa', 'Iris-setosa',\n",
    "       'Iris-setosa', 'Iris-setosa', 'Iris-setosa', 'Iris-setosa',\n",
    "       'Iris-setosa', 'Iris-setosa', 'Iris-setosa', 'Iris-setosa',\n",
    "       'Iris-setosa', 'Iris-setosa', 'Iris-setosa', 'Iris-setosa',\n",
    "       'Iris-setosa', 'Iris-setosa', 'Iris-setosa', 'Iris-setosa',\n",
    "       'Iris-setosa', 'Iris-setosa', 'Iris-setosa', 'Iris-setosa',\n",
    "       'Iris-setosa', 'Iris-setosa', 'Iris-setosa', 'Iris-setosa',\n",
    "       'Iris-setosa', 'Iris-setosa', 'Iris-setosa', 'Iris-setosa',\n",
    "       'Iris-setosa', 'Iris-setosa', 'Iris-versicolor', 'Iris-versicolor',\n",
    "       'Iris-versicolor', 'Iris-versicolor', 'Iris-versicolor',\n",
    "       'Iris-versicolor', 'Iris-versicolor', 'Iris-versicolor',\n",
    "       'Iris-versicolor', 'Iris-versicolor', 'Iris-versicolor',\n",
    "       'Iris-versicolor', 'Iris-versicolor', 'Iris-versicolor',\n",
    "       'Iris-versicolor', 'Iris-versicolor', 'Iris-versicolor',\n",
    "       'Iris-versicolor', 'Iris-versicolor', 'Iris-versicolor',\n",
    "       'Iris-versicolor', 'Iris-versicolor', 'Iris-versicolor',\n",
    "       'Iris-versicolor', 'Iris-versicolor', 'Iris-versicolor',\n",
    "       'Iris-versicolor', 'Iris-versicolor', 'Iris-versicolor',\n",
    "       'Iris-versicolor', 'Iris-versicolor', 'Iris-versicolor',\n",
    "       'Iris-versicolor', 'Iris-versicolor', 'Iris-versicolor',\n",
    "       'Iris-versicolor', 'Iris-versicolor', 'Iris-versicolor',\n",
    "       'Iris-versicolor', 'Iris-versicolor', 'Iris-versicolor',\n",
    "       'Iris-versicolor', 'Iris-versicolor', 'Iris-versicolor',\n",
    "       'Iris-versicolor', 'Iris-versicolor', 'Iris-versicolor',\n",
    "       'Iris-versicolor', 'Iris-versicolor', 'Iris-versicolor'],\n",
    "      dtype=object)\n",
    "\"\"\"\n",
    "\n",
    "# 타겟 레이블을 setosa = -1, versicolor = 1 로 바꾸기\n",
    "y = np.where(y == 'Iris-setosa', -1, 1)\n",
    "y\n",
    "\"\"\"\n",
    "array([-1, -1, -1, -1, -1, -1, -1, -1, -1, -1, -1, -1, -1, -1, -1, -1, -1,\n",
    "       -1, -1, -1, -1, -1, -1, -1, -1, -1, -1, -1, -1, -1, -1, -1, -1, -1,\n",
    "       -1, -1, -1, -1, -1, -1, -1, -1, -1, -1, -1, -1, -1, -1, -1, -1,  1,\n",
    "        1,  1,  1,  1,  1,  1,  1,  1,  1,  1,  1,  1,  1,  1,  1,  1,  1,\n",
    "        1,  1,  1,  1,  1,  1,  1,  1,  1,  1,  1,  1,  1,  1,  1,  1,  1,\n",
    "        1,  1,  1,  1,  1,  1,  1,  1,  1,  1,  1,  1,  1,  1,  1])\n",
    "\"\"\"\n",
    "\n",
    "# 두 개의 특성(sepal length, petal length)만 사용\n",
    "X = df.iloc[0:100, [0, 2]].values\n",
    "X.shape\n",
    "\"\"\"\n",
    "(100, 2)\n",
    "\"\"\"\n",
    "\n",
    "# 두 특성에 따라 데이터 시각화\n",
    "plt.scatter(X[:50, 0], X[:50, 1], color='red', marker='o', label='setosa')\n",
    "plt.scatter(X[50:100, 0], X[50:100, 1], color='blue', marker='x', label='versicolor')\n",
    "plt.xlabel('sepal length')\n",
    "plt.ylabel('petal length')\n",
    "plt.legend(loc='upper left')\n",
    "plt.show()"
   ],
   "metadata": {
    "collapsed": false
   }
  },
  {
   "cell_type": "code",
   "execution_count": null,
   "outputs": [],
   "source": [],
   "metadata": {
    "collapsed": false
   }
  },
  {
   "cell_type": "code",
   "execution_count": null,
   "outputs": [],
   "source": [],
   "metadata": {
    "collapsed": false
   }
  },
  {
   "cell_type": "code",
   "execution_count": null,
   "outputs": [],
   "source": [],
   "metadata": {
    "collapsed": false
   }
  },
  {
   "cell_type": "code",
   "execution_count": null,
   "outputs": [],
   "source": [],
   "metadata": {
    "collapsed": false
   }
  },
  {
   "cell_type": "code",
   "execution_count": null,
   "outputs": [],
   "source": [],
   "metadata": {
    "collapsed": false
   }
  },
  {
   "cell_type": "code",
   "execution_count": null,
   "outputs": [],
   "source": [
    "### 퍼셉트론(Perceptron)을 구현\n",
    "class Perceptron:\n",
    "    # niter = iteration 의 횟수입니다.\n",
    "    # iteration에 대해서는 다음 강의에서 자세히 배울 것이므로 반복 횟수 정도로만 이해하셔도 충분합니다.\n",
    "    def __init__(self, rate = 0.01, niter = 10):\n",
    "        self.rate = rate\n",
    "        self.niter = niter\n",
    "\n",
    "    def fit(self, X, y):\n",
    "        \"\"\"\n",
    "        퍼셉트론을 학습시키는 코드입니다.\n",
    "\n",
    "        X : 학습되는 데이터에 해당하는 벡터입니다.\n",
    "        X.shape -> [샘플의 수, 특성의 수] 가 되어야 합니다.\n",
    "\n",
    "        y : 타겟값입니다.\n",
    "        y.shape -> [샘플의 수] 가 되어야 합니다.\n",
    "        \"\"\"\n",
    "\n",
    "        # 초기 가중치는 [0, 0, 0] 으로 설정합니다.\n",
    "        self.weight = np.zeros(1 + X.shape[1])\n",
    "\n",
    "        # 오분류(mis-classification)된 데이터의 수\n",
    "        self.errors = []\n",
    "\n",
    "        for i in range(self.niter):\n",
    "            err = 0\n",
    "            for xi, target in zip(X, y):\n",
    "                delta_w = self.rate * (target - self.predict(xi))\n",
    "                self.weight[1:] += delta_w * xi\n",
    "                self.weight[0] += delta_w\n",
    "                err += int(delta_w != 0.0)\n",
    "            self.errors.append(err)\n",
    "        return self\n",
    "\n",
    "    def net_input(self, X):\n",
    "        \"\"\"\n",
    "        입력값을 받아 가중치, 편향과 연산해줍니다.\n",
    "        \"\"\"\n",
    "        return                                                                    #코드 채워 넣기\n",
    "\n",
    "    def predict(self, X):\n",
    "        \"\"\"\n",
    "        학습 후 가중치를 바탕으로 데이터의 클래스를 예측합니다.\n",
    "        \"\"\"\n",
    "        return np.where(self.net_input(X) >= 0.0, 1, -1)\n",
    "\n",
    "\n",
    "### 4. 퍼셉트론에 데이터 넣어 가중치를 학습\n",
    "# 학습률(learning rate): 0.1, iteration(epoch): 10\n",
    "# 퍼셉트론을 학습시키고 오분류(mis-classification)의 변화를 살펴보겠습니다.\n",
    "pn = Perceptron(0.1, 10)\n",
    "pn.fit(X, y)\n",
    "plt.plot(range(1, len(pn.errors) + 1), pn.errors, marker='o')\n",
    "plt.xlabel('Epochs')\n",
    "plt.ylabel('Number of misclassifications')\n",
    "plt.show()"
   ],
   "metadata": {
    "collapsed": false
   }
  },
  {
   "cell_type": "code",
   "execution_count": null,
   "outputs": [],
   "source": [
    "### 데이터가 잘 분류 되었는지 확인\n",
    "# 퍼셉트론의 결정 경계를 확인해 보겠습니다.\n",
    "from matplotlib.colors import ListedColormap\n",
    "\n",
    "def plot_decision_regions(X, y, classifier, resolution=0.02):\n",
    "\n",
    "    # 그래프 요소를 세팅하여줍니다.\n",
    "    markers = ('s', 'x', 'o', '^', 'v')\n",
    "    colors = ('red', 'blue', 'lightgreen', 'gray', 'cyan')\n",
    "    cmap = ListedColormap(colors[:len(np.unique(y))])\n",
    "\n",
    "    # 결정 경계면을 그려보겠습니다.\n",
    "    x1_min, x1_max = X[:,  0].min() - 1, X[:, 0].max() + 1\n",
    "    x2_min, x2_max = X[:, 1].min() - 1, X[:, 1].max() + 1\n",
    "    xx1, xx2 = np.meshgrid(np.arange(x1_min, x1_max, resolution),\n",
    "    np.arange(x2_min, x2_max, resolution))\n",
    "    Z = classifier.predict(np.array([xx1.ravel(), xx2.ravel()]).T)\n",
    "    Z = Z.reshape(xx1.shape)\n",
    "    plt.contourf(xx1, xx2, Z, alpha=0.4, cmap=cmap)\n",
    "    plt.xlim(xx1.min(), xx1.max())\n",
    "    plt.ylim(xx2.min(), xx2.max())\n",
    "\n",
    "    # 데이터를 그립니다\n",
    "    for idx, cl in enumerate(np.unique(y)):\n",
    "        plt.scatter(x=X[y == cl, 0], y=X[y == cl, 1],\n",
    "        alpha=0.8, color=cmap(idx),\n",
    "        marker=markers[idx], label=cl)\n",
    "\n",
    "plot_decision_regions(X, y, classifier=pn)\n",
    "plt.xlabel('sepal length [cm]')\n",
    "plt.ylabel('petal length [cm]')\n",
    "plt.legend(loc='upper left')\n",
    "plt.show()\n"
   ],
   "metadata": {
    "collapsed": false
   }
  },
  {
   "cell_type": "markdown",
   "source": [
    "## 고생하셨습니다"
   ],
   "metadata": {
    "collapsed": false
   }
  }
 ],
 "metadata": {
  "kernelspec": {
   "display_name": "Python 3",
   "language": "python",
   "name": "python3"
  },
  "language_info": {
   "codemirror_mode": {
    "name": "ipython",
    "version": 2
   },
   "file_extension": ".py",
   "mimetype": "text/x-python",
   "name": "python",
   "nbconvert_exporter": "python",
   "pygments_lexer": "ipython2",
   "version": "2.7.6"
  }
 },
 "nbformat": 4,
 "nbformat_minor": 0
}

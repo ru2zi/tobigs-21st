{
 "cells": [
  {
   "cell_type": "markdown",
   "metadata": {
    "id": "TgFTwCWpbl6A"
   },
   "source": [
    "# Data Loading"
   ]
  },
  {
   "cell_type": "code",
   "execution_count": 66,
   "metadata": {
    "id": "-ySPWGEdbl6B",
    "outputId": "2ab9960b-525d-46ea-a625-3efc025ddc13"
   },
   "outputs": [],
   "source": [
    "import pandas as pd\n",
    "import numpy as np"
   ]
  },
  {
   "cell_type": "code",
   "execution_count": 67,
   "metadata": {
    "id": "nTjMohKdbl6C",
    "outputId": "825242d9-4300-417e-d535-2ce5a9ecbfed"
   },
   "outputs": [
    {
     "data": {
      "text/html": [
       "<div>\n",
       "<style scoped>\n",
       "    .dataframe tbody tr th:only-of-type {\n",
       "        vertical-align: middle;\n",
       "    }\n",
       "\n",
       "    .dataframe tbody tr th {\n",
       "        vertical-align: top;\n",
       "    }\n",
       "\n",
       "    .dataframe thead th {\n",
       "        text-align: right;\n",
       "    }\n",
       "</style>\n",
       "<table border=\"1\" class=\"dataframe\">\n",
       "  <thead>\n",
       "    <tr style=\"text-align: right;\">\n",
       "      <th></th>\n",
       "      <th>age</th>\n",
       "      <th>income</th>\n",
       "      <th>student</th>\n",
       "      <th>credit_rating</th>\n",
       "      <th>class_buys_computer</th>\n",
       "    </tr>\n",
       "  </thead>\n",
       "  <tbody>\n",
       "    <tr>\n",
       "      <th>0</th>\n",
       "      <td>youth</td>\n",
       "      <td>high</td>\n",
       "      <td>no</td>\n",
       "      <td>fair</td>\n",
       "      <td>no</td>\n",
       "    </tr>\n",
       "    <tr>\n",
       "      <th>1</th>\n",
       "      <td>youth</td>\n",
       "      <td>high</td>\n",
       "      <td>no</td>\n",
       "      <td>excellent</td>\n",
       "      <td>no</td>\n",
       "    </tr>\n",
       "    <tr>\n",
       "      <th>2</th>\n",
       "      <td>middle_aged</td>\n",
       "      <td>high</td>\n",
       "      <td>no</td>\n",
       "      <td>fair</td>\n",
       "      <td>yes</td>\n",
       "    </tr>\n",
       "    <tr>\n",
       "      <th>3</th>\n",
       "      <td>senior</td>\n",
       "      <td>medium</td>\n",
       "      <td>no</td>\n",
       "      <td>fair</td>\n",
       "      <td>yes</td>\n",
       "    </tr>\n",
       "    <tr>\n",
       "      <th>4</th>\n",
       "      <td>senior</td>\n",
       "      <td>low</td>\n",
       "      <td>yes</td>\n",
       "      <td>fair</td>\n",
       "      <td>yes</td>\n",
       "    </tr>\n",
       "    <tr>\n",
       "      <th>5</th>\n",
       "      <td>senior</td>\n",
       "      <td>low</td>\n",
       "      <td>yes</td>\n",
       "      <td>excellent</td>\n",
       "      <td>no</td>\n",
       "    </tr>\n",
       "    <tr>\n",
       "      <th>6</th>\n",
       "      <td>middle_aged</td>\n",
       "      <td>low</td>\n",
       "      <td>yes</td>\n",
       "      <td>excellent</td>\n",
       "      <td>yes</td>\n",
       "    </tr>\n",
       "    <tr>\n",
       "      <th>7</th>\n",
       "      <td>youth</td>\n",
       "      <td>medium</td>\n",
       "      <td>no</td>\n",
       "      <td>fair</td>\n",
       "      <td>no</td>\n",
       "    </tr>\n",
       "    <tr>\n",
       "      <th>8</th>\n",
       "      <td>youth</td>\n",
       "      <td>low</td>\n",
       "      <td>yes</td>\n",
       "      <td>fair</td>\n",
       "      <td>yes</td>\n",
       "    </tr>\n",
       "    <tr>\n",
       "      <th>9</th>\n",
       "      <td>senior</td>\n",
       "      <td>medium</td>\n",
       "      <td>yes</td>\n",
       "      <td>fair</td>\n",
       "      <td>yes</td>\n",
       "    </tr>\n",
       "    <tr>\n",
       "      <th>10</th>\n",
       "      <td>youth</td>\n",
       "      <td>medium</td>\n",
       "      <td>yes</td>\n",
       "      <td>excellent</td>\n",
       "      <td>yes</td>\n",
       "    </tr>\n",
       "    <tr>\n",
       "      <th>11</th>\n",
       "      <td>middle_aged</td>\n",
       "      <td>medium</td>\n",
       "      <td>no</td>\n",
       "      <td>excellent</td>\n",
       "      <td>yes</td>\n",
       "    </tr>\n",
       "    <tr>\n",
       "      <th>12</th>\n",
       "      <td>middle_aged</td>\n",
       "      <td>high</td>\n",
       "      <td>yes</td>\n",
       "      <td>fair</td>\n",
       "      <td>yes</td>\n",
       "    </tr>\n",
       "    <tr>\n",
       "      <th>13</th>\n",
       "      <td>senior</td>\n",
       "      <td>medium</td>\n",
       "      <td>no</td>\n",
       "      <td>excellent</td>\n",
       "      <td>no</td>\n",
       "    </tr>\n",
       "  </tbody>\n",
       "</table>\n",
       "</div>"
      ],
      "text/plain": [
       "            age  income student credit_rating class_buys_computer\n",
       "0         youth    high      no          fair                  no\n",
       "1         youth    high      no     excellent                  no\n",
       "2   middle_aged    high      no          fair                 yes\n",
       "3        senior  medium      no          fair                 yes\n",
       "4        senior     low     yes          fair                 yes\n",
       "5        senior     low     yes     excellent                  no\n",
       "6   middle_aged     low     yes     excellent                 yes\n",
       "7         youth  medium      no          fair                  no\n",
       "8         youth     low     yes          fair                 yes\n",
       "9        senior  medium     yes          fair                 yes\n",
       "10        youth  medium     yes     excellent                 yes\n",
       "11  middle_aged  medium      no     excellent                 yes\n",
       "12  middle_aged    high     yes          fair                 yes\n",
       "13       senior  medium      no     excellent                  no"
      ]
     },
     "execution_count": 67,
     "metadata": {},
     "output_type": "execute_result"
    }
   ],
   "source": [
    "pd_data = pd.read_csv('https://raw.githubusercontent.com/AugustLONG/ML01/master/01decisiontree/AllElectronics.csv')\n",
    "pd_data.drop(\"RID\",axis=1, inplace = True) #RID는 그냥 순서라서 삭제\n",
    "pd_data"
   ]
  },
  {
   "cell_type": "markdown",
   "metadata": {
    "id": "T_viyb8rbl6D"
   },
   "source": [
    "## Gini 계수를 구하는 함수 만들기"
   ]
  },
  {
   "cell_type": "markdown",
   "metadata": {
    "id": "nIvLrlw0bl6D"
   },
   "source": [
    "<img src=\"gini.png\" width=\"200\">\n",
    "\n",
    "- Input: df(데이터), label(타겟변수명)\n",
    "- 해당 결과는 아래와 같이 나와야 합니다.\n",
    "\n",
    "- 지니계수는 데이터의 통계적 분산 정도를 정량화 해서 표현한 값이다.\n",
    "- 어떤 집합의 gini index가 높을수록 그 집단의 데이터가 분산되어 있음을 확인할 수 있다."
   ]
  },
  {
   "cell_type": "code",
   "execution_count": 68,
   "metadata": {
    "id": "t8zZFcKobl6D"
   },
   "outputs": [],
   "source": [
    "def get_gini(df, label):\n",
    "    n = len(df) # 전체 데이터 개수\n",
    "    gini = 1\n",
    "    \n",
    "    # gini index\n",
    "    for num in df[label].value_counts() :\n",
    "        p = (num / n ) ** 2\n",
    "        gini -= p\n",
    "\n",
    "    return gini"
   ]
  },
  {
   "cell_type": "code",
   "execution_count": 69,
   "metadata": {
    "id": "5fnWHp7Pbl6D",
    "outputId": "38fc7a34-7c0d-4de4-809e-2f2a41536bfa"
   },
   "outputs": [
    {
     "data": {
      "text/plain": [
       "0.4591836734693877"
      ]
     },
     "execution_count": 69,
     "metadata": {},
     "output_type": "execute_result"
    }
   ],
   "source": [
    "get_gini(pd_data,'class_buys_computer')"
   ]
  },
  {
   "cell_type": "markdown",
   "metadata": {
    "id": "S1a1zrAMbl6E"
   },
   "source": [
    "## Feature의 Class를 이진 분류로 만들기\n",
    "- ex) {A,B,C} -> ({A}, {B,C}), ({B}, {A,C}), ({C}, {A,B})"
   ]
  },
  {
   "cell_type": "markdown",
   "metadata": {
    "id": "cMYGfU37bl6E"
   },
   "source": [
    "- Input: df(데이터), attribute(Gini index를 구하고자 하는 변수명)\n",
    "- Income 변수를 결과로 출력해주세요."
   ]
  },
  {
   "cell_type": "code",
   "execution_count": 70,
   "metadata": {
    "id": "wSz1V8gebl6E"
   },
   "outputs": [],
   "source": [
    "from itertools import combinations\n",
    "\n",
    "def get_binary_split(df, attribute):\n",
    "\n",
    "    uniques = list(df[attribute].unique()) # 속성 데이터 고유값들을 담은 리스트\n",
    "    result = []\n",
    "    \n",
    "    for i in range(1,len(uniques)) :\n",
    "        tmp = list(combinations(uniques, i))\n",
    "        for j in range(len(tmp)) :\n",
    "            result.append(list(tmp[j]))\n",
    "\n",
    "    return result"
   ]
  },
  {
   "cell_type": "code",
   "execution_count": 71,
   "metadata": {
    "id": "bUOI21I2bl6E",
    "outputId": "0bd8b410-b092-4265-fe9d-f46437002e33"
   },
   "outputs": [
    {
     "data": {
      "text/plain": [
       "[['high'],\n",
       " ['medium'],\n",
       " ['low'],\n",
       " ['high', 'medium'],\n",
       " ['high', 'low'],\n",
       " ['medium', 'low']]"
      ]
     },
     "execution_count": 71,
     "metadata": {},
     "output_type": "execute_result"
    }
   ],
   "source": [
    "get_binary_split(pd_data,'income')"
   ]
  },
  {
   "cell_type": "markdown",
   "metadata": {
    "id": "uHfoMygzbl6E"
   },
   "source": [
    "## 모든 이진분류의 경우의 Gini index를 구하는 함수 만들기\n",
    "- 위에서 완성한 두 함수를 사용하여 만들어주세요!\n",
    "- 해당 결과는 아래와 같이 나와야 합니다."
   ]
  },
  {
   "cell_type": "code",
   "execution_count": 72,
   "metadata": {
    "id": "Pq9IXhdfbl6E"
   },
   "outputs": [],
   "source": [
    "def get_attribute_gini_index(df, attribute, label):\n",
    "\n",
    "    result = {}\n",
    "    binary_split = get_binary_split(df, attribute) # key \n",
    "    n = len(df)\n",
    "    for split in binary_split :\n",
    "        filtered = df[df[attribute].isin(split)] # 리스트의 값이 하나라도 있는 경우\n",
    "        rest = df[~df[attribute].isin(split)]\n",
    "        \n",
    "        weighted_gini = (len(filtered) / n) *  get_gini(filtered, label) + (1 - (len(filtered) / n)) * get_gini(rest, label)\n",
    "        result[tuple(split)] = weighted_gini\n",
    "    return result"
   ]
  },
  {
   "cell_type": "code",
   "execution_count": 73,
   "metadata": {},
   "outputs": [
    {
     "data": {
      "text/plain": [
       "{('high',): 0.4428571428571429,\n",
       " ('medium',): 0.4583333333333333,\n",
       " ('low',): 0.45,\n",
       " ('high', 'medium'): 0.45,\n",
       " ('high', 'low'): 0.45833333333333337,\n",
       " ('medium', 'low'): 0.4428571428571429}"
      ]
     },
     "execution_count": 73,
     "metadata": {},
     "output_type": "execute_result"
    }
   ],
   "source": [
    "get_attribute_gini_index(pd_data, 'income', 'class_buys_computer')"
   ]
  },
  {
   "cell_type": "markdown",
   "metadata": {
    "id": "mMHlKD-Ybl6F"
   },
   "source": [
    "- 여기서 가장 작은 Gini index값을 가지는 class를 확인합니다."
   ]
  },
  {
   "cell_type": "code",
   "execution_count": 74,
   "metadata": {
    "id": "R87wDGCwbl6F",
    "outputId": "99c95af3-bf35-4695-8f4a-2ad0897bcc8b"
   },
   "outputs": [
    {
     "data": {
      "text/plain": [
       "(('high',), 0.4428571428571429)"
      ]
     },
     "execution_count": 74,
     "metadata": {},
     "output_type": "execute_result"
    }
   ],
   "source": [
    "min(get_attribute_gini_index(pd_data, 'income', 'class_buys_computer').items())"
   ]
  },
  {
   "cell_type": "code",
   "execution_count": 75,
   "metadata": {
    "id": "Y1RFLZKKbl6F",
    "outputId": "5a22b06c-f8f5-4086-e9aa-dc1601f37a71"
   },
   "outputs": [
    {
     "data": {
      "text/plain": [
       "('high',)"
      ]
     },
     "execution_count": 75,
     "metadata": {},
     "output_type": "execute_result"
    }
   ],
   "source": [
    "min(get_attribute_gini_index(pd_data, 'income', 'class_buys_computer').items())[0]"
   ]
  },
  {
   "cell_type": "markdown",
   "metadata": {
    "id": "DGBFzQXTbl6F"
   },
   "source": [
    "## 분류를 하는 데 가장 중요한 변수를 선정하고, 해당 변수의 Gini index를 제시해주세요.\n",
    "- 모든 변수에 대한 Gini index(최소)를 출력해주세요.\n",
    "- 해당 결과는 아래와 같이 나와야 합니다."
   ]
  },
  {
   "cell_type": "code",
   "execution_count": 76,
   "metadata": {},
   "outputs": [
    {
     "name": "stdout",
     "output_type": "stream",
     "text": [
      "Minimum Gini Index of age : 0.3571\n",
      "Minimum Gini Index of income : 0.4429\n",
      "Minimum Gini Index of student : 0.3673\n",
      "Minimum Gini Index of credit_rating : 0.4286\n"
     ]
    }
   ],
   "source": [
    "# 변수명 중 마지막에 위치한 label 컬럼 얻기\n",
    "label = pd_data.columns[-1]\n",
    "# label 변수를 제외한 변수명 얻기\n",
    "features = list(pd_data.columns[:-1])\n",
    "\n",
    "# 각 변수를 대상으로 반복문 수행(해당 변수 중 가장 낮은 gini 계수와 변수 출력)\n",
    "for feature in features:\n",
    "    print(f\"Minimum Gini Index of {feature} :\", round(min(get_attribute_gini_index(pd_data, feature , label).items())[1], 4))"
   ]
  },
  {
   "cell_type": "markdown",
   "metadata": {
    "id": "cvMGBvxCbl6F"
   },
   "source": [
    "gini index가 가장 작게 나온 'age'를 가장 중요한 변수로 선정합니다.\n",
    "\n",
    "이어서 해당 변수의 이진 분류된 각 class에 대해 Gini index도 계산합니다."
   ]
  },
  {
   "cell_type": "code",
   "execution_count": 77,
   "metadata": {
    "id": "neKacd63bl6F",
    "outputId": "c4ecb3d0-741d-448c-f9b7-fad1705a7c18"
   },
   "outputs": [
    {
     "data": {
      "text/plain": [
       "{('youth',): 0.3936507936507936,\n",
       " ('middle_aged',): 0.35714285714285715,\n",
       " ('senior',): 0.45714285714285713,\n",
       " ('youth', 'middle_aged'): 0.4571428571428572,\n",
       " ('youth', 'senior'): 0.35714285714285715,\n",
       " ('middle_aged', 'senior'): 0.39365079365079364}"
      ]
     },
     "execution_count": 77,
     "metadata": {},
     "output_type": "execute_result"
    }
   ],
   "source": [
    "get_attribute_gini_index(pd_data, 'age', 'class_buys_computer')"
   ]
  },
  {
   "cell_type": "markdown",
   "metadata": {
    "id": "33uHqApnbl6F"
   },
   "source": [
    "'age' 변수에서 gini index가 가장 작게 나온 'middle_aged' class를 선정합니다."
   ]
  },
  {
   "cell_type": "markdown",
   "metadata": {
    "id": "0x4OSXg_bl6G"
   },
   "source": [
    "## Entropy 를 구하는 함수 만들기\n",
    "\n",
    "<img src = https://miro.medium.com/max/1122/0*DkWdyGidNSfdT1Nu.png width = \"350\">"
   ]
  },
  {
   "cell_type": "code",
   "execution_count": 95,
   "metadata": {
    "id": "2fccn_jSbl6G"
   },
   "outputs": [],
   "source": [
    "from math import log2\n",
    "\n",
    "def getEntropy(df, feature) :\n",
    "    \n",
    "    \"\"\"\n",
    "    수식을 참고하여,\n",
    "    데이터프레임 df에서 특정 feature에 대해\n",
    "    엔트로피를 구하는 함수를 작성해주세요.\n",
    "    \"\"\"\n",
    "    n = len(df)\n",
    "    entropy = 0\n",
    "    \n",
    "    for num in df[feature].value_counts() :\n",
    "        prob = num / df[feature].count()\n",
    "        entropy -= prob * log2(prob)\n",
    "    \n",
    "    return entropy"
   ]
  },
  {
   "cell_type": "code",
   "execution_count": 96,
   "metadata": {},
   "outputs": [
    {
     "data": {
      "text/plain": [
       "0.9402859586706311"
      ]
     },
     "execution_count": 96,
     "metadata": {},
     "output_type": "execute_result"
    }
   ],
   "source": [
    "getEntropy(pd_data, \"class_buys_computer\")"
   ]
  },
  {
   "cell_type": "code",
   "execution_count": 127,
   "metadata": {
    "id": "2eIM4nSQbl6G"
   },
   "outputs": [],
   "source": [
    "# 가장 중요한 변수로 선정된 목표변수를 제외한 다른 변수들에 대해\n",
    "# 각 칼럼별로 엔트로피를 구해주는 함수를 작성해주세요.\n",
    "\n",
    "def getGainA(df, feature) :\n",
    "    parent = getEntropy(df, feature) # 기존 엔트로피\n",
    "    n = len(df)\n",
    "    \n",
    "    result = {}\n",
    "\n",
    "    for col in df.drop(columns=[feature]):\n",
    "        children = 0\n",
    "        for value in df[col].unique() :\n",
    "            tmp = df[df[col] == value]\n",
    "            child_entropy = len(tmp) / n * getEntropy(tmp, feature) # value 값을 가질 때의 target feature에 대해 entropy계산\n",
    "            children += child_entropy # sum \n",
    "\n",
    "        gain = parent - children \n",
    "        result[col] = gain\n",
    "    return result"
   ]
  },
  {
   "cell_type": "code",
   "execution_count": 128,
   "metadata": {},
   "outputs": [
    {
     "data": {
      "text/plain": [
       "{'age': 0.24674981977443933,\n",
       " 'income': 0.02922256565895487,\n",
       " 'student': 0.15183550136234159,\n",
       " 'credit_rating': 0.04812703040826949}"
      ]
     },
     "execution_count": 128,
     "metadata": {},
     "output_type": "execute_result"
    }
   ],
   "source": [
    "getGainA(pd_data, \"class_buys_computer\")"
   ]
  }
 ],
 "metadata": {
  "colab": {
   "provenance": []
  },
  "kernelspec": {
   "display_name": "Python 3 (ipykernel)",
   "language": "python",
   "name": "python3"
  },
  "language_info": {
   "codemirror_mode": {
    "name": "ipython",
    "version": 3
   },
   "file_extension": ".py",
   "mimetype": "text/x-python",
   "name": "python",
   "nbconvert_exporter": "python",
   "pygments_lexer": "ipython3",
   "version": "3.9.13"
  },
  "toc": {
   "base_numbering": 1,
   "nav_menu": {},
   "number_sections": true,
   "sideBar": true,
   "skip_h1_title": false,
   "title_cell": "Table of Contents",
   "title_sidebar": "Contents",
   "toc_cell": false,
   "toc_position": {},
   "toc_section_display": true,
   "toc_window_display": false
  }
 },
 "nbformat": 4,
 "nbformat_minor": 1
}

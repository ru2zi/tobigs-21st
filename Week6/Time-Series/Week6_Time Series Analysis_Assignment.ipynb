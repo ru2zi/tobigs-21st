{
 "cells": [
  {
   "cell_type": "markdown",
   "metadata": {
    "id": "WR-b5i7nBilq"
   },
   "source": [
    "# Week6 Time Series 정규세션 과제"
   ]
  },
  {
   "cell_type": "markdown",
   "metadata": {
    "id": "5idZ5uj9Bilt"
   },
   "source": [
    "### 주가 데이터를 활용하여 자유롭게 시계열분석을 진행해주세요.\n",
    "### Box-Jenkins 방법론\n",
    "- 식별\n",
    "- 추정\n",
    "- 진단\n",
    "- 예측"
   ]
  },
  {
   "cell_type": "markdown",
   "metadata": {
    "id": "Io2LBvZEBilv"
   },
   "source": [
    "## 라이브러리 불러오기"
   ]
  },
  {
   "cell_type": "code",
   "execution_count": null,
   "metadata": {
    "id": "Nvs2jpLjBilv",
    "outputId": "24ce5842-ec54-4910-eda7-eee57035e8bf"
   },
   "outputs": [
    {
     "name": "stderr",
     "output_type": "stream",
     "text": [
      "C:\\Users\\cts08\\AppData\\Local\\Temp\\ipykernel_38356\\2309472473.py:12: FutureWarning: The pandas.datetime class is deprecated and will be removed from pandas in a future version. Import from datetime module instead.\n",
      "  from pandas import datetime\n"
     ]
    }
   ],
   "source": [
    "%matplotlib inline\n",
    "import pandas as pd\n",
    "import numpy as np\n",
    "import matplotlib.pyplot as plt\n",
    "import yfinance as yf\n",
    "from pmdarima.arima import auto_arima\n",
    "from statsmodels.graphics.tsaplots import plot_acf,plot_pacf\n",
    "from statsmodels.tsa.seasonal import seasonal_decompose\n",
    "from statsmodels.tsa.stattools import adfuller, kpss\n",
    "import statsmodels.api as sm\n",
    "from statsmodels.tsa.arima_model import ARIMA\n",
    "from pandas import datetime\n",
    "from statsmodels.tsa.arima_model import ARIMAResults"
   ]
  },
  {
   "cell_type": "markdown",
   "metadata": {
    "id": "uvV2zaxqBilz"
   },
   "source": [
    "## 주가 데이터 불러오기\n",
    "- 예) 삼성 005930.KS"
   ]
  },
  {
   "cell_type": "code",
   "execution_count": null,
   "metadata": {
    "id": "iB6gDrHQBilz",
    "outputId": "068d43fc-4ed5-49c2-c732-f27ca452ec45"
   },
   "outputs": [
    {
     "data": {
      "text/html": [
       "<div>\n",
       "<style scoped>\n",
       "    .dataframe tbody tr th:only-of-type {\n",
       "        vertical-align: middle;\n",
       "    }\n",
       "\n",
       "    .dataframe tbody tr th {\n",
       "        vertical-align: top;\n",
       "    }\n",
       "\n",
       "    .dataframe thead th {\n",
       "        text-align: right;\n",
       "    }\n",
       "</style>\n",
       "<table border=\"1\" class=\"dataframe\">\n",
       "  <thead>\n",
       "    <tr style=\"text-align: right;\">\n",
       "      <th></th>\n",
       "      <th>price</th>\n",
       "    </tr>\n",
       "    <tr>\n",
       "      <th>day</th>\n",
       "      <th></th>\n",
       "    </tr>\n",
       "  </thead>\n",
       "  <tbody>\n",
       "    <tr>\n",
       "      <th>2020-01-02</th>\n",
       "      <td>55200.0</td>\n",
       "    </tr>\n",
       "    <tr>\n",
       "      <th>2020-01-03</th>\n",
       "      <td>55500.0</td>\n",
       "    </tr>\n",
       "    <tr>\n",
       "      <th>2020-01-06</th>\n",
       "      <td>55500.0</td>\n",
       "    </tr>\n",
       "    <tr>\n",
       "      <th>2020-01-07</th>\n",
       "      <td>55800.0</td>\n",
       "    </tr>\n",
       "    <tr>\n",
       "      <th>2020-01-08</th>\n",
       "      <td>56800.0</td>\n",
       "    </tr>\n",
       "    <tr>\n",
       "      <th>...</th>\n",
       "      <td>...</td>\n",
       "    </tr>\n",
       "    <tr>\n",
       "      <th>2021-04-14</th>\n",
       "      <td>84000.0</td>\n",
       "    </tr>\n",
       "    <tr>\n",
       "      <th>2021-04-15</th>\n",
       "      <td>84100.0</td>\n",
       "    </tr>\n",
       "    <tr>\n",
       "      <th>2021-04-16</th>\n",
       "      <td>83900.0</td>\n",
       "    </tr>\n",
       "    <tr>\n",
       "      <th>2021-04-19</th>\n",
       "      <td>83300.0</td>\n",
       "    </tr>\n",
       "    <tr>\n",
       "      <th>2021-04-20</th>\n",
       "      <td>83900.0</td>\n",
       "    </tr>\n",
       "  </tbody>\n",
       "</table>\n",
       "<p>322 rows × 1 columns</p>\n",
       "</div>"
      ],
      "text/plain": [
       "              price\n",
       "day                \n",
       "2020-01-02  55200.0\n",
       "2020-01-03  55500.0\n",
       "2020-01-06  55500.0\n",
       "2020-01-07  55800.0\n",
       "2020-01-08  56800.0\n",
       "...             ...\n",
       "2021-04-14  84000.0\n",
       "2021-04-15  84100.0\n",
       "2021-04-16  83900.0\n",
       "2021-04-19  83300.0\n",
       "2021-04-20  83900.0\n",
       "\n",
       "[322 rows x 1 columns]"
      ]
     },
     "execution_count": 2,
     "metadata": {},
     "output_type": "execute_result"
    }
   ],
   "source": [
    "samsung_df = yf.download('005930.KS',\n",
    "                      start='2020-01-01',\n",
    "                      end='2021-04-21',\n",
    "                      progress=False)\n",
    "\n",
    "samsung_df = samsung_df[[\"Close\"]]\n",
    "\n",
    "samsung_df = samsung_df.reset_index()\n",
    "\n",
    "samsung_df.columns = ['day', 'price']\n",
    "\n",
    "samsung_df['day'] = pd.to_datetime(samsung_df['day'])\n",
    "\n",
    "samsung_df.index = samsung_df['day']\n",
    "samsung_df.set_index('day', inplace=True)\n",
    "\n",
    "samsung_df"
   ]
  }
 ],
 "metadata": {
  "colab": {
   "provenance": []
  },
  "kernelspec": {
   "display_name": "Python 3 (ipykernel)",
   "language": "python",
   "name": "python3"
  },
  "language_info": {
   "codemirror_mode": {
    "name": "ipython",
    "version": 3
   },
   "file_extension": ".py",
   "mimetype": "text/x-python",
   "name": "python",
   "nbconvert_exporter": "python",
   "pygments_lexer": "ipython3",
   "version": "3.9.13"
  },
  "vscode": {
   "interpreter": {
    "hash": "0b9d710d49b7563b919f1e19f16fcf1e908d60dbfcbf1863b9ac2efcbb8224be"
   }
  }
 },
 "nbformat": 4,
 "nbformat_minor": 1
}
